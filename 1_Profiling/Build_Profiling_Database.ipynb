{
 "cells": [
  {
   "cell_type": "markdown",
   "id": "187af12d-fdf9-4a00-8545-83927bb3662e",
   "metadata": {},
   "source": [
    "# Data Profiling\n",
    "## Team 8: Anthony, Sean, Gideon\n",
    "## Team 9: Rohith, Sneha\n",
    "## Team 10: Anmol, Nikita, Satya"
   ]
  },
  {
   "cell_type": "markdown",
   "id": "5626dad1-2664-4ff9-8483-3057eba7562a",
   "metadata": {},
   "source": [
    "### The first deliverable is a report of the 25 top selling products.\n",
    "### The first column requires us to aggregate the 3 databases and then generate the top 25."
   ]
  },
  {
   "cell_type": "markdown",
   "id": "ad58498a-0025-4e35-ade8-32bc2bb6bf4b",
   "metadata": {},
   "source": [
    "### Database API taken from Anthony Ung's code for HW 4.\n",
    "### This API was modified so an instance may be created."
   ]
  },
  {
   "cell_type": "code",
   "execution_count": 1,
   "id": "02186f77-4709-4db3-ae78-071c42309036",
   "metadata": {},
   "outputs": [],
   "source": [
    "import sqlite3 as lite\n",
    "from enum import Enum\n",
    "\n",
    "'''\n",
    "    This class provides one common point of interaction with my team's database.\n",
    "    Everything that writes to the database uses this API.\n",
    "'''\n",
    "class db_options(Enum):\n",
    "        DEFAULT = 0\n",
    "        RETURN_RESULTS = 1\n",
    "        PRINT_RESULTS = 2\n",
    "\n",
    "class db:\n",
    "\n",
    "    class Options(Enum):\n",
    "        DEFAULT = 0\n",
    "        RETURN_RESULTS = 1\n",
    "        PRINT_RESULTS = 2\n",
    "    \n",
    "    def __init__(self, name):\n",
    "        self.name = rf\"{name}\"\n",
    "\n",
    "    def connect(self):\n",
    "        self.con = lite.connect(self.name)\n",
    "        self.cur = self.con.cursor()\n",
    "\n",
    "    def build_table(self, name):      \n",
    "        self.execute_sql(f'DROP TABLE IF EXISTS {name}')\n",
    "        self.execute_sql(TABLE_DEFINITIONS[name])\n",
    "    \n",
    "    def execute_sql(self, sql, options=db_options.DEFAULT):\n",
    "        if (options.value & db_options.RETURN_RESULTS.value):\n",
    "            results = self.cur.execute(sql).fetchall()\n",
    "            return results\n",
    "            \n",
    "        self.cur.execute(sql)\n",
    "\n",
    "    def execute_sql_values(self, sql, values):\n",
    "        self.cur.execute(sql, values)\n",
    "\n",
    "    def commit(self):\n",
    "        self.con.commit()\n",
    "\n",
    "    def close(self):\n",
    "        self.con.commit()\n",
    "        self.con.close()"
   ]
  },
  {
   "cell_type": "markdown",
   "id": "55a1bd91-75d7-4931-9d45-ba4379e96fce",
   "metadata": {},
   "source": [
    "### Database Paths"
   ]
  },
  {
   "cell_type": "code",
   "execution_count": 2,
   "id": "b415928c-eecb-42bd-a033-156e79591128",
   "metadata": {},
   "outputs": [],
   "source": [
    "DB_PATHS = {\n",
    "    'db_8' : '../0_SD_Team_8/store_team_8.db',\n",
    "    'db_9' : '../0_SD_Team_9/grocery_store.db',\n",
    "    'db_10' : '../0_SD_Team_10/grocery_team_10.db',\n",
    "    'db_c' : 'grocery_etl_staging.db'\n",
    "}"
   ]
  },
  {
   "cell_type": "markdown",
   "id": "83330141-9862-4242-a64d-712a5fc13d5f",
   "metadata": {},
   "source": [
    "#### Connect to Team 9's Database and do a Demo Query"
   ]
  },
  {
   "cell_type": "code",
   "execution_count": 3,
   "id": "8b6da200-cb79-47c3-8792-e8ef21828d7f",
   "metadata": {},
   "outputs": [
    {
     "name": "stdout",
     "output_type": "stream",
     "text": [
      "('2024-01-01', 0, 42360001, 2.02, 1109, 92.5)\n",
      "('2024-01-01', 0, 43403001, 3.2, 1151, 96)\n",
      "('2024-01-01', 0, 44034001, 1.17, 629, 52.5)\n",
      "('2024-01-01', 0, 43210001, 23.53, 527, 44)\n",
      "('2024-01-01', 0, 43454001, 2.88, 74, 6.25)\n",
      "('2024-01-01', 0, 42668001, 3.52, 74, 6.25)\n",
      "('2024-01-01', 0, 43244001, 5.87, 74, 6.25)\n",
      "('2024-01-01', 0, 42883001, 2.68, 74, 6.25)\n",
      "('2024-01-01', 0, 43981001, 0.64, 74, 6.25)\n",
      "('2024-01-01', 0, 43702001, 15.18, 74, 6.25)\n"
     ]
    }
   ],
   "source": [
    "db_9 = db(DB_PATHS['db_9'])\n",
    "db_9.connect()\n",
    "\n",
    "sql = 'SELECT * FROM transactions LIMIT 10'\n",
    "\n",
    "results = db_9.execute_sql(sql, options=db_options.RETURN_RESULTS)\n",
    "\n",
    "for row in results:\n",
    "    print(row)\n",
    "\n",
    "db_9.close()"
   ]
  },
  {
   "cell_type": "markdown",
   "id": "25d7d83d-53cb-45e1-a531-11da7d33bccc",
   "metadata": {},
   "source": [
    "#### Connect to Team 8's Database and do a Demo Query"
   ]
  },
  {
   "cell_type": "code",
   "execution_count": 4,
   "id": "af895e36-aabf-4594-903d-4bfcd6870d4b",
   "metadata": {},
   "outputs": [
    {
     "name": "stdout",
     "output_type": "stream",
     "text": [
      "('2024-01-01', 1, 43365001, 1.07, 23, 2)\n",
      "('2024-01-01', 1, 43018001, 13.19, 23, 2)\n",
      "('2024-01-01', 1, 43083001, 2.68, 83, 7)\n",
      "('2024-01-01', 1, 42779001, 13.19, 83, 7)\n",
      "('2024-01-01', 1, 42238001, 1.2, 83, 7)\n",
      "('2024-01-01', 1, 43104001, 1.99, 83, 7)\n",
      "('2024-01-01', 1, 43482001, 4.79, 83, 7)\n",
      "('2024-01-01', 1, 42303001, 1.43, 83, 7)\n",
      "('2024-01-01', 1, 42864001, 3.0, 83, 7)\n",
      "('2024-01-01', 1, 43761001, 1.76, 83, 7)\n"
     ]
    }
   ],
   "source": [
    "db_8 = db(DB_PATHS['db_8'])\n",
    "db_8.connect()\n",
    "\n",
    "sql = 'SELECT * FROM sales_transactions LIMIT 10'\n",
    "\n",
    "results = db_8.execute_sql(sql, options=db_options.RETURN_RESULTS)\n",
    "\n",
    "for row in results:\n",
    "    print(row)\n",
    "\n",
    "db_8.close()"
   ]
  },
  {
   "cell_type": "markdown",
   "id": "66f14ac9-c65f-4700-9191-1bf055e58372",
   "metadata": {},
   "source": [
    "#### Connect to Team 10's Database and do a Demo Query"
   ]
  },
  {
   "cell_type": "code",
   "execution_count": 5,
   "id": "1acb6ff7-3fe0-4577-9e75-7ddd94bff7ad",
   "metadata": {},
   "outputs": [
    {
     "name": "stdout",
     "output_type": "stream",
     "text": [
      "('20240101', 0, 43774001, 2.75, 119, 10)\n",
      "('20240101', 0, 42345001, 3.78, 119, 10)\n",
      "('20240101', 1, 43625001, 3.78, 119, 10)\n",
      "('20240101', 1, 42217001, 0.97, 119, 10)\n",
      "('20240101', 2, 42538001, 1.25, 119, 10)\n",
      "('20240101', 2, 43880001, 2.98, 119, 10)\n",
      "('20240101', 3, 43882001, 3.2, 119, 10)\n",
      "('20240101', 3, 43517001, 2.6, 119, 10)\n",
      "('20240101', 3, 42384001, 3.85, 119, 10)\n",
      "('20240101', 3, 43701001, 8.04, 119, 10)\n"
     ]
    }
   ],
   "source": [
    "db_10 = db(DB_PATHS['db_10'])\n",
    "db_10.connect()\n",
    "\n",
    "sql = 'SELECT * FROM sales_transactions LIMIT 10'\n",
    "\n",
    "results = db_10.execute_sql(sql, options=db_options.RETURN_RESULTS)\n",
    "\n",
    "for row in results:\n",
    "    print(row)\n",
    "\n",
    "db_10.close()"
   ]
  },
  {
   "cell_type": "markdown",
   "id": "360ff6f2-541c-4016-ac4b-1d86d925e24f",
   "metadata": {},
   "source": [
    "#### Now I have enough information to generate the columns for the individual stores."
   ]
  },
  {
   "cell_type": "markdown",
   "id": "e0b76c36-1f49-4a19-a6f0-b6c03a66efa4",
   "metadata": {},
   "source": [
    "Keep the table definitions handy.\n",
    "\n",
    "Team 9:\n",
    "```\n",
    "'CREATE TABLE IF NOT EXISTS transactions(date1 TEXT, customerID INT, sku INT, salePrice REAL, itemsLeft INT, co INT)'\n",
    "```\n",
    "\n",
    "Team 8/10:\n",
    "```\n",
    "    'sales_transactions': \\\n",
    "            'CREATE TABLE sales_transactions(' \\\n",
    "                    'date TEXT, ' \\\n",
    "                    'customer_number INT, ' \\\n",
    "                    'sku INT, ' \\\n",
    "                    'salesPrice REAL, ' \\\n",
    "                    'items_left INT, ' \\\n",
    "                    'cases_ordered INT)'\n",
    "```"
   ]
  },
  {
   "cell_type": "markdown",
   "id": "38ae4dc2-c242-425e-8896-864a7fa1915d",
   "metadata": {},
   "source": [
    "### Total Sales, December 2024"
   ]
  },
  {
   "cell_type": "code",
   "execution_count": 6,
   "id": "894628cc-b077-481c-b00a-f5bcf1985e58",
   "metadata": {},
   "outputs": [
    {
     "name": "stdout",
     "output_type": "stream",
     "text": [
      "(5573872.98,)\n",
      "(3928780.47,)\n",
      "(400321.54,)\n"
     ]
    }
   ],
   "source": [
    "'''\n",
    "AU is using parallel arrays here becuase this is a small section of code and nothing here will be used by any other cell.\n",
    "''';\n",
    "\n",
    "dbs = ['db_8', 'db_9', 'db_10']\n",
    "sqls = [\n",
    "    'SELECT SUM(salesPrice) ' \\\n",
    "    'FROM sales_transactions ' \\\n",
    "    'WHERE date >= \\'2024-12-01\\''\n",
    "    ,\n",
    "    'SELECT SUM(salePrice) ' \\\n",
    "    'FROM transactions ' \\\n",
    "    'WHERE date1 >= \\'2024-12-01\\''\n",
    "    ,\n",
    "    'SELECT SUM(salesPrice) ' \\\n",
    "    'FROM sales_transactions ' \\\n",
    "    'WHERE date >= \\'20241201\\''\n",
    "]\n",
    "\n",
    "for i in range(3):\n",
    "    db_temp = db(DB_PATHS[dbs[i]])\n",
    "    db_temp.connect()\n",
    "\n",
    "    results = db_temp.execute_sql(sqls[i], options=db_options.RETURN_RESULTS)\n",
    "    for row in results:\n",
    "        print(row)\n",
    "    \n",
    "    db_temp.close()"
   ]
  },
  {
   "cell_type": "markdown",
   "id": "19063781-e336-4c43-be90-dfcce97719ea",
   "metadata": {},
   "source": [
    "### Total Customers, December 2024"
   ]
  },
  {
   "cell_type": "code",
   "execution_count": 7,
   "id": "2110337b-7e7d-44a7-94d9-87d8649a7f74",
   "metadata": {},
   "outputs": [
    {
     "name": "stdout",
     "output_type": "stream",
     "text": [
      "(32750,)\n",
      "(33382,)\n",
      "(34141,)\n"
     ]
    }
   ],
   "source": [
    "\n",
    "'''\n",
    "AU is using parallel arrays here becuase this is a small section of code and nothing here will be used by any other cell.\n",
    "''';\n",
    "\n",
    "dbs = ['db_8', 'db_9', 'db_10']\n",
    "sqls = [\n",
    "    '''\n",
    "        SELECT COUNT(*)\n",
    "        FROM (\n",
    "            SELECT DISTINCT date, customer_number\n",
    "            FROM sales_transactions\n",
    "            WHERE date >= '2024-12-01'\n",
    "        ) AS distinct_pairs;\n",
    "    '''\n",
    "    ,\n",
    "    '''\n",
    "        SELECT COUNT(*)\n",
    "        FROM (\n",
    "            SELECT DISTINCT date1, customerID\n",
    "            FROM transactions\n",
    "            WHERE date1 >= '2024-12-01'\n",
    "        ) AS distinct_pairs;\n",
    "    '''\n",
    "    ,\n",
    "    '''\n",
    "        SELECT COUNT(*)\n",
    "        FROM (\n",
    "            SELECT DISTINCT date, customer_number\n",
    "            FROM sales_transactions\n",
    "            WHERE date >= '20241201'\n",
    "        ) AS distinct_pairs;\n",
    "    '''\n",
    "]\n",
    "\n",
    "\n",
    "for i in range(3):\n",
    "    db_temp = db(DB_PATHS[dbs[i]])\n",
    "    db_temp.connect()\n",
    "\n",
    "    results = db_temp.execute_sql(sqls[i], options=db_options.RETURN_RESULTS)\n",
    "    for row in results:\n",
    "        print(row)\n",
    "    \n",
    "    db_temp.close()"
   ]
  },
  {
   "cell_type": "markdown",
   "id": "f905bb46-ebd1-4365-bc87-ad76cfc9800b",
   "metadata": {},
   "source": [
    "### Some Pseudocode for Nikita Brahmbhatt on how to combine the databases\n",
    "#### We need a combined database to fill in any of the other cells."
   ]
  },
  {
   "cell_type": "code",
   "execution_count": 8,
   "id": "f1545c12-1b80-4ea0-ad7f-75e0dc631d2e",
   "metadata": {},
   "outputs": [
    {
     "name": "stdout",
     "output_type": "stream",
     "text": [
      "Finished\n"
     ]
    }
   ],
   "source": [
    "db_combined = db('grocery_etl_staging.db')\n",
    "db_combined.connect()\n",
    "\n",
    "'''\n",
    "Use each of db_8's, db_9's, and db_10's execute_sql methods with the correct options\n",
    "    to select all records starting from '2024-12-01' or '2024-1201'.\n",
    "\n",
    "Then, for each row of the results that were returned,\n",
    "    save the corresponding record using db_combined's execute_sql method.\n",
    "\n",
    "I imagine this may take a few minutes ...\n",
    "\n",
    "The format of the dates and the table definitions were established in the earlier cells.\n",
    "'''\n",
    "\n",
    "db_combined.commit()\n",
    "db_combined.close()\n",
    "print('Finished')"
   ]
  },
  {
   "cell_type": "code",
   "execution_count": 9,
   "id": "21f5e2ac-cb69-4bdf-b543-6fbc718c8778",
   "metadata": {},
   "outputs": [],
   "source": [
    "from datetime import datetime\n",
    "\n",
    "def create_combined_schema(target_db):\n",
    "    target_db.execute_sql('DROP TABLE IF EXISTS combined_sales;')\n",
    "    target_db.execute_sql('''CREATE TABLE IF NOT EXISTS combined_sales(\n",
    "                            date TEXT, \n",
    "                            customer_number INT, \n",
    "                            sku INT, \n",
    "                            sales_price REAL, \n",
    "                            items_left INT, \n",
    "                            cases_ordered INT, \n",
    "                            store_number INT)''')\n",
    "\n",
    "def transform_team8(row):\n",
    "    \"\"\"Transform Team 8's data (already in correct format)\"\"\"\n",
    "    return (\n",
    "        row[0],  # date (YYYY-MM-DD)\n",
    "        row[1],  # customer_number\n",
    "        row[2],  # sku\n",
    "        float(row[3]),  # salesPrice\n",
    "        int(row[4]),  # items_left\n",
    "        int(row[5]),  # cases_ordered\n",
    "        8\n",
    "    )\n",
    "\n",
    "def transform_team9(row):\n",
    "    \"\"\"Transform Team 9's data with column renaming\"\"\"\n",
    "    return (\n",
    "        row[0],  # date -> date (YYYY-MM-DD)\n",
    "        row[1],  # customerID -> customer_number\n",
    "        row[2],  # sku\n",
    "        float(row[3]),  # salePrice -> sales_price\n",
    "        int(row[4]),  # itemsLeft -> items_left\n",
    "        int(row[5]),  # co -> cases_ordered\n",
    "        9\n",
    "    )\n",
    "\n",
    "def transform_team10(row):\n",
    "    \"\"\"Transform Team 10's data with column renaming\"\"\"\n",
    "    return (\n",
    "        datetime.strptime(row[0], \"%Y%m%d\").strftime(\"%Y-%m-%d\"),  # date1 -> date (YYYY-MM-DD)\n",
    "        row[1],  # customerID -> customer_number\n",
    "        row[2],  # sku\n",
    "        float(row[3]),  # salePrice -> sales_price\n",
    "        int(row[4]),  # itemsLeft -> items_left\n",
    "        int(row[5]),  # co -> cases_ordered\n",
    "        10\n",
    "    )\n",
    "\n"
   ]
  },
  {
   "cell_type": "code",
   "execution_count": 10,
   "id": "7f2be917-b7ab-4620-a813-95011314e427",
   "metadata": {},
   "outputs": [],
   "source": [
    "def combine_data(source_db, query, transform_func, target_db):\n",
    "    \"\"\"Generic function to combine data from different sources\"\"\"\n",
    "    results = source_db.execute_sql(query, options=db_options.RETURN_RESULTS)\n",
    "    for row in results:\n",
    "        try:\n",
    "            transformed = transform_func(row)\n",
    "            target_db.execute_sql_values(\n",
    "                '''INSERT INTO combined_sales \n",
    "                   VALUES (?, ?, ?, ?, ?, ?, ?)''',\n",
    "                transformed\n",
    "            )\n",
    "        except Exception as e:\n",
    "            print(f\"Error processing row: {row}\")\n",
    "            print(f\"Error: {str(e)}\")\n",
    "    target_db.commit()\n",
    "\n",
    "\n",
    "def generate_top25_report(target_db, output_file=\"top_25_products.csv\"):\n",
    "    \"\"\"Generate the final report for top 25 products by total sales\"\"\"\n",
    "    sql_combined = '''\n",
    "    SELECT \n",
    "        sku, \n",
    "        COUNT(*) AS count\n",
    "    FROM combined_sales \n",
    "    WHERE date >= '2024-12-01' \n",
    "    GROUP BY sku\n",
    "    ORDER BY count DESC\n",
    "    LIMIT 25;\n",
    "    '''\n",
    "\n",
    "    # Execute the query and fetch results\n",
    "    results = target_db.execute_sql(sql_combined, options=db_options.RETURN_RESULTS)\n",
    "    \n",
    "    # Write the results to a CSV file\n",
    "    with open(output_file, 'w') as f:\n",
    "        f.write(\"SKU,Total Sales\\n\")  # CSV header\n",
    "        for row in results:\n",
    "            f.write(f\"{row[0]},{row[1]}\\n\")  # Write SKU, total sales, and rank\n",
    "\n",
    "    print(f\"Report generated: {output_file}\")\n"
   ]
  },
  {
   "cell_type": "code",
   "execution_count": 11,
   "id": "93db2922-e330-477e-b98d-0ff2ea1d2e5d",
   "metadata": {},
   "outputs": [
    {
     "name": "stdout",
     "output_type": "stream",
     "text": [
      "2025-03-17 21:27:43.299280 - Begin\n",
      "2025-03-17 21:27:47.735941 - Team 8's database placed in combined database\n",
      "2025-03-17 21:27:51.373291 - Team 9's database placed in combined database\n",
      "2025-03-17 21:28:01.705262 - Team 10's database placed in combined database\n",
      "Report generated: top_25_products.csv\n",
      "2025-03-17 21:28:02.885974 - Combined Database Created\n"
     ]
    }
   ],
   "source": [
    "# Initialize combined database\n",
    "combined_db = db('grocery_etl_staging.db')\n",
    "combined_db.connect()\n",
    "create_combined_schema(combined_db)\n",
    "\n",
    "# Connect to source databases\n",
    "db8 = db(DB_PATHS['db_8'])\n",
    "db9 = db(DB_PATHS['db_9'])\n",
    "db10 = db(DB_PATHS['db_10'])\n",
    "\n",
    "for source in [db8, db9, db10]:\n",
    "    source.connect()\n",
    "\n",
    "print(f'{datetime.now()} - Begin')\n",
    "\n",
    "# Combine data from all sources\n",
    "combine_data(db8, \n",
    "            \"SELECT * FROM sales_transactions WHERE date >= '2024-12-01'\",\n",
    "            transform_team8,\n",
    "            combined_db)\n",
    "\n",
    "print(f\"{datetime.now()} - Team 8's database placed in combined database\")\n",
    "\n",
    "combine_data(db9,\n",
    "            \"SELECT * FROM transactions WHERE date1 >= '2024-12-01'\",  # Fixed query to use 'date' instead of 'date1'\n",
    "            transform_team9,\n",
    "            combined_db)\n",
    "\n",
    "print(f\"{datetime.now()} - Team 9's database placed in combined database\")\n",
    "\n",
    "combine_data(db10,\n",
    "            \"SELECT * FROM sales_transactions WHERE date >= '2024-12-01'\",\n",
    "            transform_team10,\n",
    "            combined_db)\n",
    "\n",
    "print(f\"{datetime.now()} - Team 10's database placed in combined database\")\n",
    "\n",
    "# Generate report for top 25 products\n",
    "generate_top25_report(combined_db)\n",
    "\n",
    "# Cleanup\n",
    "for db_conn in [db8, db9, db10, combined_db]:\n",
    "    db_conn.close()\n",
    "\n",
    "print(f'{datetime.now()} - Combined Database Created')"
   ]
  },
  {
   "cell_type": "code",
   "execution_count": null,
   "id": "9881cfe4-31b4-43ba-8e7f-cc89c7ed5604",
   "metadata": {},
   "outputs": [],
   "source": []
  }
 ],
 "metadata": {
  "kernelspec": {
   "display_name": "Python 3 (ipykernel)",
   "language": "python",
   "name": "python3"
  },
  "language_info": {
   "codemirror_mode": {
    "name": "ipython",
    "version": 3
   },
   "file_extension": ".py",
   "mimetype": "text/x-python",
   "name": "python",
   "nbconvert_exporter": "python",
   "pygments_lexer": "ipython3",
   "version": "3.12.9"
  }
 },
 "nbformat": 4,
 "nbformat_minor": 5
}
