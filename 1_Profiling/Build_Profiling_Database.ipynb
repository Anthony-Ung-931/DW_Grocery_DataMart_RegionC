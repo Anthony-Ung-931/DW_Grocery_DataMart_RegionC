{
 "cells": [
  {
   "cell_type": "markdown",
   "id": "187af12d-fdf9-4a00-8545-83927bb3662e",
   "metadata": {},
   "source": [
    "# Data Profiling\n",
    "## Team 8: Anthony, Sean, Gideon\n",
    "## Team 9: Rohith, Sneha\n",
    "## Team 10: Anmol, Nikita, Satya"
   ]
  },
  {
   "cell_type": "markdown",
   "id": "5626dad1-2664-4ff9-8483-3057eba7562a",
   "metadata": {},
   "source": [
    "### The first deliverable is a report of the 25 top selling products.\n",
    "### The first column requires us to aggregate the 3 databases and then generate the top 25."
   ]
  },
  {
   "cell_type": "markdown",
   "id": "ad58498a-0025-4e35-ade8-32bc2bb6bf4b",
   "metadata": {},
   "source": [
    "#### Database API taken from Anthony Ung's code for HW 4.\n",
    "#### This API was modified so an instance may be created."
   ]
  },
  {
   "cell_type": "code",
   "execution_count": 1,
   "id": "02186f77-4709-4db3-ae78-071c42309036",
   "metadata": {},
   "outputs": [],
   "source": [
    "import sqlite3 as lite\n",
    "from enum import Enum\n",
    "\n",
    "'''\n",
    "    This class provides one common point of interaction with my team's database.\n",
    "    Everything that writes to the database uses this API.\n",
    "'''\n",
    "class db:\n",
    "\n",
    "    class Options(Enum):\n",
    "        RETURN_RESULTS = 1\n",
    "        PRINT_RESULTS = 2\n",
    "    \n",
    "    def __init__(self, name):\n",
    "        self.name = rf\"{name}\"\n",
    "\n",
    "    def connect(self):\n",
    "        self.con = lite.connect(self.name)\n",
    "        self.cur = self.con.cursor()\n",
    "\n",
    "    def build_table(self, name):      \n",
    "        self.execute_sql(f'DROP TABLE IF EXISTS {name}')\n",
    "        self.execute_sql(TABLE_DEFINITIONS[name])\n",
    "    \n",
    "    def execute_sql(self, sql, options=0):\n",
    "        if (options.value & db.Options.RETURN_RESULTS.value):\n",
    "            results = self.cur.execute(sql).fetchall()\n",
    "            return results\n",
    "            \n",
    "        self.cur.execute(sql)\n",
    "\n",
    "    def execute_sql_values(self, sql, values):\n",
    "        self.cur.execute(sql, values)\n",
    "\n",
    "    def commit(self):\n",
    "        self.con.commit()\n",
    "\n",
    "    def close(self):\n",
    "        self.con.commit()\n",
    "        self.con.close()"
   ]
  },
  {
   "cell_type": "markdown",
   "id": "55a1bd91-75d7-4931-9d45-ba4379e96fce",
   "metadata": {},
   "source": [
    "#### Connect to Team 9's Database and do a Demo Query"
   ]
  },
  {
   "cell_type": "code",
   "execution_count": 2,
   "id": "8b6da200-cb79-47c3-8792-e8ef21828d7f",
   "metadata": {},
   "outputs": [],
   "source": [
    "db_9 = db('../0_SD_Team_9/grocery_store.db')\n",
    "db_9.connect()"
   ]
  },
  {
   "cell_type": "code",
   "execution_count": 3,
   "id": "700dac44-ef30-4b6e-84c8-b7c1f3e78b7b",
   "metadata": {},
   "outputs": [
    {
     "data": {
      "text/plain": [
       "[('2024-01-01', 0, 42360001, 2.02, 1109, 92.5),\n",
       " ('2024-01-01', 0, 43403001, 3.2, 1151, 96),\n",
       " ('2024-01-01', 0, 44034001, 1.17, 629, 52.5),\n",
       " ('2024-01-01', 0, 43210001, 23.53, 527, 44),\n",
       " ('2024-01-01', 0, 43454001, 2.88, 74, 6.25),\n",
       " ('2024-01-01', 0, 42668001, 3.52, 74, 6.25),\n",
       " ('2024-01-01', 0, 43244001, 5.87, 74, 6.25),\n",
       " ('2024-01-01', 0, 42883001, 2.68, 74, 6.25),\n",
       " ('2024-01-01', 0, 43981001, 0.64, 74, 6.25),\n",
       " ('2024-01-01', 0, 43702001, 15.18, 74, 6.25)]"
      ]
     },
     "execution_count": 3,
     "metadata": {},
     "output_type": "execute_result"
    }
   ],
   "source": [
    "sql = 'SELECT * FROM transactions LIMIT 10'\n",
    "\n",
    "db_9.execute_sql(sql, options=db.Options.RETURN_RESULTS)"
   ]
  },
  {
   "cell_type": "markdown",
   "id": "25d7d83d-53cb-45e1-a531-11da7d33bccc",
   "metadata": {},
   "source": [
    "#### Connect to Team 8's Database and do a Demo Query"
   ]
  },
  {
   "cell_type": "code",
   "execution_count": 4,
   "id": "227206de-d0f6-4af1-89ef-fa46ebed8f5d",
   "metadata": {},
   "outputs": [],
   "source": [
    "db_8 = db('../0_SD_Team_8/store_team_8.db')\n",
    "db_8.connect()"
   ]
  },
  {
   "cell_type": "code",
   "execution_count": 5,
   "id": "e24a97c4-2dc4-4676-a0cf-2b6e96c23b3f",
   "metadata": {},
   "outputs": [
    {
     "data": {
      "text/plain": [
       "[('2024-01-01', 1, 43365001, 1.07, 23, 2),\n",
       " ('2024-01-01', 1, 43018001, 13.19, 23, 2),\n",
       " ('2024-01-01', 1, 43083001, 2.68, 83, 7),\n",
       " ('2024-01-01', 1, 42779001, 13.19, 83, 7),\n",
       " ('2024-01-01', 1, 42238001, 1.2, 83, 7),\n",
       " ('2024-01-01', 1, 43104001, 1.99, 83, 7),\n",
       " ('2024-01-01', 1, 43482001, 4.79, 83, 7),\n",
       " ('2024-01-01', 1, 42303001, 1.43, 83, 7),\n",
       " ('2024-01-01', 1, 42864001, 3.0, 83, 7),\n",
       " ('2024-01-01', 1, 43761001, 1.76, 83, 7)]"
      ]
     },
     "execution_count": 5,
     "metadata": {},
     "output_type": "execute_result"
    }
   ],
   "source": [
    "sql = 'SELECT * FROM sales_transactions LIMIT 10'\n",
    "\n",
    "db_8.execute_sql(sql, options=db.Options.RETURN_RESULTS)"
   ]
  },
  {
   "cell_type": "markdown",
   "id": "66f14ac9-c65f-4700-9191-1bf055e58372",
   "metadata": {},
   "source": [
    "#### Connect to Team 10's Database and do a Demo Query"
   ]
  },
  {
   "cell_type": "code",
   "execution_count": 6,
   "id": "7a3b7371-6a3b-4a75-9967-93d182649e7a",
   "metadata": {},
   "outputs": [],
   "source": [
    "db_10 = db('../0_SD_Team_10/grocery_team_10.db')\n",
    "db_10.connect()"
   ]
  },
  {
   "cell_type": "code",
   "execution_count": 7,
   "id": "94de1a39-73ac-417d-9a95-1d94d9032f5a",
   "metadata": {},
   "outputs": [
    {
     "name": "stdout",
     "output_type": "stream",
     "text": [
      "('20240101', 0, 43774001, 2.75, 119, 10)\n",
      "('20240101', 0, 42345001, 3.78, 119, 10)\n",
      "('20240101', 1, 43625001, 3.78, 119, 10)\n",
      "('20240101', 1, 42217001, 0.97, 119, 10)\n",
      "('20240101', 2, 42538001, 1.25, 119, 10)\n",
      "('20240101', 2, 43880001, 2.98, 119, 10)\n",
      "('20240101', 3, 43882001, 3.2, 119, 10)\n",
      "('20240101', 3, 43517001, 2.6, 119, 10)\n",
      "('20240101', 3, 42384001, 3.85, 119, 10)\n",
      "('20240101', 3, 43701001, 8.04, 119, 10)\n"
     ]
    }
   ],
   "source": [
    "sql = 'SELECT * FROM sales_transactions LIMIT 10'\n",
    "\n",
    "results = db_10.execute_sql(sql, options=db.Options.RETURN_RESULTS)\n",
    "for row in results:\n",
    "    print(row)"
   ]
  },
  {
   "cell_type": "code",
   "execution_count": 8,
   "id": "a72b9451-3212-417c-9453-03879b9d7840",
   "metadata": {},
   "outputs": [],
   "source": [
    "sql = 'SELECT * FROM sales_transactions WHERE items_left < 0'\n",
    "\n",
    "results = db_10.execute_sql(sql, options=db.Options.RETURN_RESULTS)\n",
    "for row in results:\n",
    "    print(row)"
   ]
  },
  {
   "cell_type": "markdown",
   "id": "360ff6f2-541c-4016-ac4b-1d86d925e24f",
   "metadata": {},
   "source": [
    "#### Now I have enough information to generate the columns for the individual stores."
   ]
  },
  {
   "cell_type": "markdown",
   "id": "e0b76c36-1f49-4a19-a6f0-b6c03a66efa4",
   "metadata": {},
   "source": [
    "Keep the table definitions handy.\n",
    "\n",
    "Team 9:\n",
    "```\n",
    "'CREATE TABLE IF NOT EXISTS transactions(date1 TEXT, customerID INT, sku INT, salePrice REAL, itemsLeft INT, co INT)'\n",
    "```\n",
    "\n",
    "Team 8/10:\n",
    "```\n",
    "    'sales_transactions': \\\n",
    "            'CREATE TABLE sales_transactions(' \\\n",
    "                    'date TEXT, ' \\\n",
    "                    'customer_number INT, ' \\\n",
    "                    'sku INT, ' \\\n",
    "                    'salesPrice REAL, ' \\\n",
    "                    'items_left INT, ' \\\n",
    "                    'cases_ordered INT)'\n",
    "```"
   ]
  },
  {
   "cell_type": "markdown",
   "id": "38ae4dc2-c242-425e-8896-864a7fa1915d",
   "metadata": {},
   "source": [
    "### Total Sales, December 2024"
   ]
  },
  {
   "cell_type": "code",
   "execution_count": 9,
   "id": "894628cc-b077-481c-b00a-f5bcf1985e58",
   "metadata": {},
   "outputs": [
    {
     "name": "stdout",
     "output_type": "stream",
     "text": [
      "(5573872.98,)\n",
      "(3928780.47,)\n",
      "(400321.54,)\n"
     ]
    }
   ],
   "source": [
    "sql_8 = 'SELECT SUM(salesPrice) ' \\\n",
    "        'FROM sales_transactions ' \\\n",
    "        'WHERE date >= \\'2024-12-01\\''\n",
    "\n",
    "sql_9 = 'SELECT SUM(salePrice) ' \\\n",
    "        'FROM transactions ' \\\n",
    "        'WHERE date1 >= \\'2024-12-01\\''\n",
    "\n",
    "sql_10 = 'SELECT SUM(salesPrice) ' \\\n",
    "         'FROM sales_transactions ' \\\n",
    "         'WHERE date >= \\'20241201\\''\n",
    "\n",
    "results = db_8.execute_sql(sql_8, options=db.Options.RETURN_RESULTS)\n",
    "for row in results:\n",
    "    print(row)\n",
    "\n",
    "results = db_9.execute_sql(sql_9, options=db.Options.RETURN_RESULTS)\n",
    "for row in results:\n",
    "    print(row)\n",
    "\n",
    "results = db_10.execute_sql(sql_10, options=db.Options.RETURN_RESULTS)\n",
    "for row in results:\n",
    "    print(row)"
   ]
  },
  {
   "cell_type": "markdown",
   "id": "19063781-e336-4c43-be90-dfcce97719ea",
   "metadata": {},
   "source": [
    "### Total Customers, December 2024"
   ]
  },
  {
   "cell_type": "code",
   "execution_count": 10,
   "id": "2110337b-7e7d-44a7-94d9-87d8649a7f74",
   "metadata": {},
   "outputs": [
    {
     "name": "stdout",
     "output_type": "stream",
     "text": [
      "(32750,)\n",
      "(33382,)\n",
      "(34141,)\n"
     ]
    }
   ],
   "source": [
    "sql_8 = \\\n",
    "    '''\n",
    "        SELECT COUNT(*)\n",
    "        FROM (\n",
    "            SELECT DISTINCT date, customer_number\n",
    "            FROM sales_transactions\n",
    "            WHERE date >= '2024-12-01'\n",
    "        ) AS distinct_pairs;\n",
    "    '''\n",
    "\n",
    "sql_9 = \\\n",
    "    '''\n",
    "        SELECT COUNT(*)\n",
    "        FROM (\n",
    "            SELECT DISTINCT date1, customerID\n",
    "            FROM transactions\n",
    "            WHERE date1 >= '2024-12-01'\n",
    "        ) AS distinct_pairs;\n",
    "    '''\n",
    "\n",
    "sql_10 = \\\n",
    "    '''\n",
    "        SELECT COUNT(*)\n",
    "        FROM (\n",
    "            SELECT DISTINCT date, customer_number\n",
    "            FROM sales_transactions\n",
    "            WHERE date >= '20241201'\n",
    "        ) AS distinct_pairs;\n",
    "    '''\n",
    "\n",
    "results = db_8.execute_sql(sql_8, options=db.Options.RETURN_RESULTS)\n",
    "for row in results:\n",
    "    print(row)\n",
    "\n",
    "results = db_9.execute_sql(sql_9, options=db.Options.RETURN_RESULTS)\n",
    "for row in results:\n",
    "    print(row)\n",
    "\n",
    "results = db_10.execute_sql(sql_10, options=db.Options.RETURN_RESULTS)\n",
    "for row in results:\n",
    "    print(row)"
   ]
  },
  {
   "cell_type": "markdown",
   "id": "f905bb46-ebd1-4365-bc87-ad76cfc9800b",
   "metadata": {},
   "source": [
    "### Some Pseudocode for Nikita Brahmbhatt on how to combine the databases\n",
    "#### We need a combined database to fill in any of the other cells."
   ]
  },
  {
   "cell_type": "code",
   "execution_count": 11,
   "id": "f1545c12-1b80-4ea0-ad7f-75e0dc631d2e",
   "metadata": {},
   "outputs": [
    {
     "name": "stdout",
     "output_type": "stream",
     "text": [
      "Finished\n"
     ]
    }
   ],
   "source": [
    "db_combined = db('groucery_etl_staging.db')\n",
    "db_combined.connect()\n",
    "\n",
    "'''\n",
    "Use each of db_8's, db_9's, and db_10's execute_sql methods with the correct options\n",
    "    to select all records starting from '2024-12-01' or '2024-1201'.\n",
    "\n",
    "Then, for each row of the results that were returned,\n",
    "    save the corresponding record using db_combined's execute_sql method.\n",
    "\n",
    "I imagine this may take a few minutes ...\n",
    "\n",
    "The format of the dates and the table definitions were established in the earlier cells.\n",
    "'''\n",
    "\n",
    "db_combined.commit()\n",
    "db_combined.close()\n",
    "print('Finished')"
   ]
  },
  {
   "cell_type": "code",
   "execution_count": null,
   "id": "21f5e2ac-cb69-4bdf-b543-6fbc718c8778",
   "metadata": {},
   "outputs": [],
   "source": []
  }
 ],
 "metadata": {
  "kernelspec": {
   "display_name": "Python 3 (ipykernel)",
   "language": "python",
   "name": "python3"
  },
  "language_info": {
   "codemirror_mode": {
    "name": "ipython",
    "version": 3
   },
   "file_extension": ".py",
   "mimetype": "text/x-python",
   "name": "python",
   "nbconvert_exporter": "python",
   "pygments_lexer": "ipython3",
   "version": "3.12.9"
  }
 },
 "nbformat": 4,
 "nbformat_minor": 5
}
