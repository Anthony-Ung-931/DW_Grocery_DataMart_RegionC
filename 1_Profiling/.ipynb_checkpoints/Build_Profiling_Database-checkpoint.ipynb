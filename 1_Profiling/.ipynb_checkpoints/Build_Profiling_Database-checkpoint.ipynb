{
 "cells": [
  {
   "cell_type": "markdown",
   "id": "187af12d-fdf9-4a00-8545-83927bb3662e",
   "metadata": {},
   "source": [
    "# Data Profiling\n",
    "## Team 8: Anthony, Sean, Gideon\n",
    "## Team 9: Rohith, Sneha\n",
    "## Team 10: Anmol, Nikita, Satya"
   ]
  },
  {
   "cell_type": "markdown",
   "id": "5626dad1-2664-4ff9-8483-3057eba7562a",
   "metadata": {},
   "source": [
    "The first deliverable is a report of the 25 top selling products.\n",
    "The first column requires us to aggregate the 3 databases and then generate the top 25."
   ]
  },
  {
   "cell_type": "code",
   "execution_count": null,
   "id": "64b4804b-04dd-4d4d-9419-0e6d6d9371b7",
   "metadata": {},
   "outputs": [],
   "source": []
  }
 ],
 "metadata": {
  "kernelspec": {
   "display_name": "Python 3 (ipykernel)",
   "language": "python",
   "name": "python3"
  },
  "language_info": {
   "codemirror_mode": {
    "name": "ipython",
    "version": 3
   },
   "file_extension": ".py",
   "mimetype": "text/x-python",
   "name": "python",
   "nbconvert_exporter": "python",
   "pygments_lexer": "ipython3",
   "version": "3.12.9"
  }
 },
 "nbformat": 4,
 "nbformat_minor": 5
}
