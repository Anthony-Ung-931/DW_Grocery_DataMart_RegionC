{
 "cells": [
  {
   "cell_type": "markdown",
   "id": "da964ced-5fb8-41c1-a4b4-e1979b11a4c9",
   "metadata": {},
   "source": [
    "## Build Data Mart\n",
    "#### Contributors:\n",
    "##### Tean 8: Anthony Ung, Sean Jerzewski, Gideon Kipkorir\n",
    "##### Team 9: Rohith, Sneha Dasarla\n",
    "##### Team 10: Anmol Brahmbhatt, Nikita Brahmbhatt, Satya"
   ]
  },
  {
   "cell_type": "markdown",
   "id": "ccd1c30e-e490-467d-9364-2ed64628e295",
   "metadata": {},
   "source": [
    "## 0. Dependencies and Global Variables"
   ]
  },
  {
   "cell_type": "code",
   "execution_count": 1,
   "id": "5f9f911a-574c-441b-9dfe-25f49783a350",
   "metadata": {},
   "outputs": [],
   "source": [
    "import os\n",
    "from enum import Enum\n",
    "import csv\n",
    "import sqlite3 as lite\n",
    "from decimal import Decimal\n",
    "from datetime import date, timedelta"
   ]
  },
  {
   "cell_type": "code",
   "execution_count": 2,
   "id": "e689f6d5-f3ad-4ff1-adef-a63fc47134b1",
   "metadata": {},
   "outputs": [],
   "source": [
    "DB_HANDLES = {}"
   ]
  },
  {
   "cell_type": "markdown",
   "id": "3a86db21-1ae1-45df-b1d4-dc025971ab22",
   "metadata": {},
   "source": [
    "#"
   ]
  },
  {
   "cell_type": "markdown",
   "id": "ae19336d-b000-4c95-a903-939303456b0d",
   "metadata": {},
   "source": [
    "## 1. Gather the file paths\n",
    "  \n",
    "  \n",
    "## IMPORTANT: \n",
    "#### Most of these files are untracked on GitHub. it is each team members'   \n",
    "####   &emsp; &emsp; It is each team members' individual responsibilities  \n",
    "####   &emsp; &emsp; to build the Database and CSV files for themselves using the other Jupyter notebooks. "
   ]
  },
  {
   "cell_type": "code",
   "execution_count": 3,
   "id": "22c6f6dc-50c1-4057-a6c2-7d6f8924e8c9",
   "metadata": {},
   "outputs": [],
   "source": [
    "FILE_PATHS = {\n",
    "    'DB_TEAM_8' : './../0_SD_Team_8/store_team_8.db',\n",
    "    'DB_TEAM_9' : './../0_SD_Team_9/grocery_store.db',\n",
    "    'DB_TEAM_10' : './../0_SD_Team_10/grocery_team_10_v2.db',\n",
    "    'PRODUCTS_CSV' : './../2_Product_Mapping/PRODUCTS_MAPPED.csv'\n",
    "}\n",
    "\n",
    "DATA_MART_PATH = './Region_C_Data_Mart.db'"
   ]
  },
  {
   "cell_type": "code",
   "execution_count": 4,
   "id": "e4e4e81f-ad92-4712-844d-8a4c78cb5b49",
   "metadata": {},
   "outputs": [
    {
     "name": "stdout",
     "output_type": "stream",
     "text": [
      "OK - DB_TEAM_8 - './../0_SD_Team_8/store_team_8.db'\n",
      "OK - DB_TEAM_9 - './../0_SD_Team_9/grocery_store.db'\n",
      "OK - DB_TEAM_10 - './../0_SD_Team_10/grocery_team_10_v2.db'\n",
      "OK - PRODUCTS_CSV - './../2_Product_Mapping/PRODUCTS_MAPPED.csv'\n"
     ]
    }
   ],
   "source": [
    "ALL_FILES_OK = True\n",
    "\n",
    "for file_key in FILE_PATHS:\n",
    "    file_name = FILE_PATHS[file_key]\n",
    "    file_exists = os.path.isfile(file_name)\n",
    "    \n",
    "    if(file_exists):\n",
    "        print(f'OK - {file_key} - \\'{file_name}\\'')\n",
    "    else:\n",
    "        ALL_FILES_OK = False\n",
    "        print(f'MISSING - {file_key} - \\'{file_name}\\'')\n",
    "\n",
    "if not ALL_FILES_OK:\n",
    "    raise SystemExit('\\n' \"ERROR!\" '\\n' \"You are missing files!\" '\\n' \"Read and Follow the Cell instructions provided.\")"
   ]
  },
  {
   "cell_type": "markdown",
   "id": "4f4bd9c4-e582-40ec-a9d1-9cf20dc1c08e",
   "metadata": {},
   "source": [
    "#"
   ]
  },
  {
   "cell_type": "markdown",
   "id": "af1530d5-dd45-4da7-8311-4ac71017442b",
   "metadata": {},
   "source": [
    "## 2. Compile the table definitions"
   ]
  },
  {
   "cell_type": "code",
   "execution_count": 5,
   "id": "60503c0d-cf87-4f93-bbaf-1bc4cdaf763c",
   "metadata": {},
   "outputs": [],
   "source": [
    "'''\n",
    "    TABLE_DEFINITIONS is a dict as follows:\n",
    "        Key - the name of the table in the database\n",
    "        Value - the CREATE TABLE statement for the table\n",
    "    I wrote a lot of unused table definitions that will be useful\n",
    "        in a later HW.\n",
    "'''\n",
    "TABLE_DEFINITIONS = {\n",
    "    'date' : \\\n",
    "            'CREATE TABLE date(' \\\n",
    "                    'DateKey INT, ' \\\n",
    "                    'PrettyDate TEXT, ' \\\n",
    "                    'DayNumberInMonth INT, ' \\\n",
    "                    'DayNumberInYear INT, ' \\\n",
    "                    'WeekNumberInYear INT, ' \\\n",
    "                    'MonthNum INT, ' \\\n",
    "                    'MonthTxt TEXT, ' \\\n",
    "                    'Quarter INT, ' \\\n",
    "                    'Year INT,' \\\n",
    "                    'FiscalYear INT, ' \\\n",
    "                    'isHoliday INT, ' \\\n",
    "                    'isWeekend INT, ' \\\n",
    "                    'Season TEXT' ')',\n",
    "\n",
    "    'product': \\\n",
    "            'CREATE TABLE product(' \\\n",
    "                    'ProductKey INT,' \\\n",
    "                    'sku INT,' \\\n",
    "                    'product_name TEXT, ' \\\n",
    "                    'product_class_id INT, ' \\\n",
    "                    'subcategory TEXT, ' \\\n",
    "                    'category TEXT, ' \\\n",
    "                    'department TEXT, ' \\\n",
    "                    'product_family TEXT, ' \\\n",
    "                    'size TEXT, ' \\\n",
    "                    'case_count INT, ' \\\n",
    "                    'BrandName TEXT, ' \\\n",
    "                    'Manufacturer TEXT, ' \\\n",
    "                    'Supplier TEXT, ' \\\n",
    "                    'CostToStore REAL)',\n",
    "\n",
    "    'product_metadata': \\\n",
    "            'CREATE TABLE product_metadata(' \\\n",
    "                    'ProductKey INT,' \\\n",
    "                    'sku INT,' \\\n",
    "                    'old_type TEXT, ' \\\n",
    "                    'meta_code INT,' \\\n",
    "                    'meta_mapped_by TEXT, ' \\\n",
    "                    'meta_reason TEXT)',\n",
    "    \n",
    "    'store' : \\\n",
    "            'CREATE TABLE store(' \\\n",
    "                    'StoreKey INT, ' \\\n",
    "                    'StoreManager TEXT, ' \\\n",
    "                    'StoreStreetAddr TEXT, ' \\\n",
    "                    'StoreTown TEXT, ' \\\n",
    "                    'StoreZipCode TEXT, ' \\\n",
    "                    'StorePhoneNumber TEXT, ' \\\n",
    "                    'StoreState TEXT' ')',\n",
    "    \n",
    "    'sales_transactions': \\\n",
    "            'CREATE TABLE sales_transactions(' \\\n",
    "                    'DateKey INT, ' \\\n",
    "                    'DailyCustomerNumber INT, ' \\\n",
    "                    'ProductKey INT, ' \\\n",
    "                    'StoreKey INT, ' \\\n",
    "                    'QuantitySold INT, ' \\\n",
    "                    'TotalDollarSales REAL, ' \\\n",
    "                    'TotalCostToStore REAL, ' \\\n",
    "                    'GrossProfit REAL)',\n",
    "\n",
    "    'sales_daily': \\\n",
    "            'CREATE TABLE sales_transactions(' \\\n",
    "                    'DateKey INT, ' \\\n",
    "                    'DailyCustomerNumber INT, ' \\\n",
    "                    'ProductKey INT, ' \\\n",
    "                    'StoreKey INT, ' \\\n",
    "                    'QuantitySoldToday INT, ' \\\n",
    "                    'CostOfItemsSold REAL, ' \\\n",
    "                    'SalesTotal REAL, ' \\\n",
    "                    'GrossProfit REAL)',\n",
    "\n",
    "    'inventory_daily' : \\\n",
    "            'CREATE TABLE inventory_daily(' \\\n",
    "                    'DateKey INT, ' \\\n",
    "                    'ProductKey INT, ' \\\n",
    "                    'StoreKey INT, ' \\\n",
    "                    'NumAvailable INT, '\n",
    "                    'CostToStoreItem FLOAT, ' \\\n",
    "                    'CostToStore FLOAT, ' \\\n",
    "                    'NumCasesPurchasedToDate INT)', \n",
    "\n",
    "    'inventory_quarterly' : \\\n",
    "            'CREATE TABLE inventory_quarterly(' \\\n",
    "                    'ProductKey INT, ' \\\n",
    "                    'StoreKey INT, ' \\\n",
    "                    'Quarter INT, ' \\\n",
    "                    'Year INT, ' \\\n",
    "                    'CasesPurchasedToDate INT, ' \\\n",
    "                    'CasesPurchasedThisQuarter INT, ' \\\n",
    "                    'CasesOnHand INT, ' \\\n",
    "                    'TotalCostToStoreThisQuarter FLOAT, ' \\\n",
    "                    'TotalSoldByStoreThisQuarter FLOAT, ' \\\n",
    "                    'TotalCostToStoreThisYTD FLOAT, ' \\\n",
    "                    'TotalSoldByStoreThisYTD FLOAT)'\n",
    "}\n"
   ]
  },
  {
   "cell_type": "markdown",
   "id": "fb792d7f-5e3e-41cc-ad5b-04b333e0c323",
   "metadata": {},
   "source": [
    "#"
   ]
  },
  {
   "cell_type": "markdown",
   "id": "be870414-a8b2-4e4a-b659-5d6cbc2b8539",
   "metadata": {},
   "source": [
    "## 3. Initialize the Database File and the Database API\n",
    "#### Note: The first cell in this block is destructive.\n",
    "#### If you need to see multiple versions of the database side-by-side, rename the db file before rerunning this notebook."
   ]
  },
  {
   "cell_type": "code",
   "execution_count": 6,
   "id": "9a7b51f9-54a1-4320-9e7e-f87fde3f74e9",
   "metadata": {},
   "outputs": [],
   "source": [
    "if os.path.isfile(DATA_MART_PATH):\n",
    "    os.remove(DATA_MART_PATH)"
   ]
  },
  {
   "cell_type": "code",
   "execution_count": 7,
   "id": "b9912c16-cbb7-41fc-8553-4aac389be0af",
   "metadata": {},
   "outputs": [],
   "source": [
    "'''\n",
    "    This class provides one common point of interaction with my team's database.\n",
    "    Everything that writes to the database uses this API.\n",
    "'''\n",
    "class db_options(Enum):\n",
    "        DEFAULT = 0\n",
    "        RETURN_RESULTS = 1\n",
    "        PRINT_RESULTS = 2\n",
    "\n",
    "class db:\n",
    "    \n",
    "    def __init__(self, name):\n",
    "        self.name = rf\"{name}\"\n",
    "\n",
    "    def connect(self):\n",
    "        self.con = lite.connect(self.name)\n",
    "        self.cur = self.con.cursor()\n",
    "\n",
    "    def build_table(self, name):      \n",
    "        self.execute_sql(f'DROP TABLE IF EXISTS {name}')\n",
    "        self.execute_sql(TABLE_DEFINITIONS[name])\n",
    "    \n",
    "    def execute_sql(self, sql, options=db_options.DEFAULT):\n",
    "        if (options.value & db_options.RETURN_RESULTS.value):\n",
    "            results = self.cur.execute(sql).fetchall()\n",
    "            return results\n",
    "        elif (options.value & db_options.PRINT_RESULTS.value):\n",
    "            results = self.cur.execute(sql).fetchall()\n",
    "            for row in results:\n",
    "                print(row)\n",
    "        else:\n",
    "            self.cur.execute(sql)\n",
    "\n",
    "    def execute_sql_values(self, sql, values):\n",
    "        self.cur.execute(sql, values)\n",
    "\n",
    "    def commit(self):\n",
    "        self.con.commit()\n",
    "\n",
    "    def close(self):\n",
    "        self.con.commit()\n",
    "        self.con.close()"
   ]
  },
  {
   "cell_type": "code",
   "execution_count": 8,
   "id": "6ddd3e8e-7d2d-4a84-a888-b64b72c7d138",
   "metadata": {},
   "outputs": [],
   "source": [
    "DB_HANDLES['DATA MART'] = db(DATA_MART_PATH)"
   ]
  },
  {
   "cell_type": "markdown",
   "id": "0c937a99-3fde-4dd6-bd92-cfe6536338a5",
   "metadata": {},
   "source": [
    "#"
   ]
  },
  {
   "cell_type": "markdown",
   "id": "40064d55-276c-4895-b58f-84649778b97b",
   "metadata": {},
   "source": [
    "## 4. Build the Dimension Tables"
   ]
  },
  {
   "cell_type": "markdown",
   "id": "90d1a815-1e9f-4fb4-9f61-bdf01df91eef",
   "metadata": {},
   "source": [
    "#### Product Dimension\n",
    "The presence of the CSV generated by the script is checked earlier."
   ]
  },
  {
   "cell_type": "code",
   "execution_count": 9,
   "id": "4e27e99a-1f6b-45c4-8be8-965cc59486ef",
   "metadata": {},
   "outputs": [
    {
     "name": "stdout",
     "output_type": "stream",
     "text": [
      "Product and Product Metadata Tables Populated\n"
     ]
    }
   ],
   "source": [
    "def build_product_table():\n",
    "    db_handle = DB_HANDLES['DATA MART']\n",
    "    \n",
    "    with open(FILE_PATHS['PRODUCTS_CSV'], 'r') as csvfile:\n",
    "        db_handle.connect()\n",
    "\n",
    "        db_handle.build_table('product')\n",
    "        db_handle.build_table('product_metadata')\n",
    "        \n",
    "        for row in csv.DictReader(csvfile):\n",
    "            product_key = row['product_id']\n",
    "            sku = row['SKU']\n",
    "            product_name = row['Product Name']\n",
    "            product_class_id = row['product_class_id']\n",
    "            product_subcategory = row['product_subcategory']\n",
    "            product_category = row['product_category']\n",
    "            product_department = row['product_department']\n",
    "            product_family = row['product_family']\n",
    "            size = row['Size']\n",
    "            case_count = 12\n",
    "            brand_name = row['product_subcategory']\n",
    "            manufacturer = row['Manufacturer']\n",
    "            supplier = row['Supplier']\n",
    "            cost_to_store = round(float(Decimal(row['BasePrice'].strip('$'))),2)\n",
    "\n",
    "\n",
    "            old_type = row['itemType']\n",
    "            meta_code = row['meta_code']\n",
    "            meta_mapped_by = row['meta_mapped_by']\n",
    "            meta_reason = row['meta_reason']\n",
    "\n",
    "            db_handle.execute_sql_values(sql='insert into product values \\\n",
    "                                    (?, ?, ?, ?, ?, ?, ?, ?, ?, ?, ?, ?, ?, ?)', \\\n",
    "                                 values=(product_key, sku, product_name, \\\n",
    "                                        product_class_id, product_subcategory, product_category, product_department, product_family, \\\n",
    "                                        size, case_count,\n",
    "                                        brand_name, manufacturer, supplier, cost_to_store))\n",
    "\n",
    "            db_handle.execute_sql_values(sql='insert into product_metadata values \\\n",
    "                                    (?, ?, ?, ?, ?, ?)', \\\n",
    "                                    values=(product_key, sku, old_type, meta_code, meta_mapped_by, meta_reason))\n",
    "        \n",
    "        \n",
    "        print('Product and Product Metadata Tables Populated')\n",
    "        db_handle.commit()\n",
    "        db_handle.close()\n",
    "\n",
    "build_product_table()"
   ]
  },
  {
   "cell_type": "markdown",
   "id": "719d8d5c-9301-44dd-b903-1bd76abe6a3b",
   "metadata": {},
   "source": [
    "#### Store Dimension\n",
    "Code originally written by Gideon Kipkorir"
   ]
  },
  {
   "cell_type": "code",
   "execution_count": 10,
   "id": "f8ae5449-5e01-470e-8731-1b0417216a88",
   "metadata": {},
   "outputs": [
    {
     "name": "stdout",
     "output_type": "stream",
     "text": [
      "Store Dimension Successfully Built\n"
     ]
    }
   ],
   "source": [
    "data = [\n",
    "    {\n",
    "        \"StoreKey\": 8,\n",
    "        \"StoreManager\": \"Anthony-Sean-Gideon\",\n",
    "        \"StoreStreetAddr\": \"1180 Seven Seas Dr\",\n",
    "        \"StoreTown\": \"Orlando\",\n",
    "        \"StoreZipCode\": \"32836\",\n",
    "        \"StorePhone#\": \"(407) 824-4500\",\n",
    "        \"StoreState\": \"FL\"\n",
    "    },\n",
    "    {\n",
    "        \"StoreKey\": 9,\n",
    "        \"StoreManager\": \"Rohith-Sneha\",\n",
    "        \"StoreStreetAddr\": \"201 Mullica Hill Road\",\n",
    "        \"StoreTown\": \"Glassboro\",\n",
    "        \"StoreZipCode\": \"08028\",\n",
    "        \"StorePhone#\": \"(856) 424-2222 x2500\",\n",
    "        \"StoreState\": \"NJ\"\n",
    "    },\n",
    "    {\n",
    "        \"StoreKey\": 10,\n",
    "        \"StoreManager\": \"Anmol-Nikita-Satya\",\n",
    "        \"StoreStreetAddr\": \"620 Anthony Ung Drive\",\n",
    "        \"StoreTown\": \"Miami\",\n",
    "        \"StoreZipCode\": \"33130\",\n",
    "        \"StorePhone#\": \"(856) 663-8006\",\n",
    "        \"StoreState\": \"FL\"\n",
    "    }\n",
    "]\n",
    "\n",
    "def build_store_dimension():\n",
    "    db_handle = DB_HANDLES['DATA MART']\n",
    "    db_handle.connect()\n",
    "    db_handle.build_table('store')\n",
    "\n",
    "    for store in data:\n",
    "        db_handle.execute_sql_values(sql='insert into store values \\\n",
    "                                    (?, ?, ?, ?, ?, ?, ?)', \\\n",
    "                                    values=(store['StoreKey'], \\\n",
    "                                            store['StoreManager'], \\\n",
    "                                            store['StoreStreetAddr'], \\\n",
    "                                            store['StoreTown'], \\\n",
    "                                            store['StoreZipCode'], \\\n",
    "                                            store['StorePhone#'], \\\n",
    "                                            store['StoreState']))\n",
    "    \n",
    "    db_handle.commit()\n",
    "    db_handle.close()\n",
    "    print('Store Dimension Successfully Built')\n",
    "    \n",
    "\n",
    "build_store_dimension()"
   ]
  },
  {
   "cell_type": "markdown",
   "id": "ed0a6e0b-0849-40b3-b63d-3ab9f1ef7b4f",
   "metadata": {},
   "source": [
    "#### Date Dimension\n",
    "Logic originally written by Sean Jerzewski"
   ]
  },
  {
   "cell_type": "code",
   "execution_count": 11,
   "id": "c97278fd-3a59-4bb5-9cca-dcd9d2a62b08",
   "metadata": {},
   "outputs": [
    {
     "ename": "OperationalError",
     "evalue": "no such table: date",
     "output_type": "error",
     "traceback": [
      "\u001b[31m---------------------------------------------------------------------------\u001b[39m",
      "\u001b[31mOperationalError\u001b[39m                          Traceback (most recent call last)",
      "\u001b[36mCell\u001b[39m\u001b[36m \u001b[39m\u001b[32mIn[11]\u001b[39m\u001b[32m, line 85\u001b[39m\n\u001b[32m     82\u001b[39m     db_handle.close()\n\u001b[32m     83\u001b[39m     \u001b[38;5;28mprint\u001b[39m(\u001b[33m'\u001b[39m\u001b[33mDate Dimension Successfully Built\u001b[39m\u001b[33m'\u001b[39m)\n\u001b[32m---> \u001b[39m\u001b[32m85\u001b[39m \u001b[43mbuild_date_dimension\u001b[49m\u001b[43m(\u001b[49m\u001b[43m)\u001b[49m\n",
      "\u001b[36mCell\u001b[39m\u001b[36m \u001b[39m\u001b[32mIn[11]\u001b[39m\u001b[32m, line 62\u001b[39m, in \u001b[36mbuild_date_dimension\u001b[39m\u001b[34m()\u001b[39m\n\u001b[32m     59\u001b[39m \u001b[38;5;28;01melse\u001b[39;00m:\n\u001b[32m     60\u001b[39m     season = \u001b[33m\"\u001b[39m\u001b[33mWinter\u001b[39m\u001b[33m\"\u001b[39m\n\u001b[32m---> \u001b[39m\u001b[32m62\u001b[39m \u001b[43mdb_handle\u001b[49m\u001b[43m.\u001b[49m\u001b[43mexecute_sql_values\u001b[49m\u001b[43m(\u001b[49m\u001b[43msql\u001b[49m\u001b[43m=\u001b[49m\u001b[33;43m'\u001b[39;49m\u001b[33;43minsert into date values \u001b[39;49m\u001b[38;5;130;43;01m\\\u001b[39;49;00m\n\u001b[32m     63\u001b[39m \u001b[33;43m                            (?, ?, ?, ?, ?, ?, ?, ?, ?, ?, ?, ?, ?)\u001b[39;49m\u001b[33;43m'\u001b[39;49m\u001b[43m,\u001b[49m\u001b[43m \u001b[49m\u001b[43m\\\u001b[49m\n\u001b[32m     64\u001b[39m \u001b[43m                            \u001b[49m\u001b[43mvalues\u001b[49m\u001b[43m=\u001b[49m\u001b[43m(\u001b[49m\u001b[43mDateKey\u001b[49m\u001b[43m,\u001b[49m\u001b[43m \u001b[49m\u001b[43m\\\u001b[49m\n\u001b[32m     65\u001b[39m \u001b[43m                                    \u001b[49m\u001b[43mPrettyDate\u001b[49m\u001b[43m,\u001b[49m\u001b[43m \u001b[49m\u001b[43m\\\u001b[49m\n\u001b[32m     66\u001b[39m \u001b[43m                                    \u001b[49m\u001b[43mDayNumberInMonth\u001b[49m\u001b[43m,\u001b[49m\u001b[43m \u001b[49m\u001b[43m\\\u001b[49m\n\u001b[32m     67\u001b[39m \u001b[43m                                    \u001b[49m\u001b[43mDayNumberInYear\u001b[49m\u001b[43m,\u001b[49m\u001b[43m \u001b[49m\u001b[43m\\\u001b[49m\n\u001b[32m     68\u001b[39m \u001b[43m                                    \u001b[49m\u001b[43mWeekNumberInYear\u001b[49m\u001b[43m,\u001b[49m\u001b[43m \u001b[49m\u001b[43m\\\u001b[49m\n\u001b[32m     69\u001b[39m \u001b[43m                                    \u001b[49m\u001b[43mMonthNum\u001b[49m\u001b[43m,\u001b[49m\u001b[43m \u001b[49m\u001b[43m\\\u001b[49m\n\u001b[32m     70\u001b[39m \u001b[43m                                    \u001b[49m\u001b[43mMonthTxt\u001b[49m\u001b[43m,\u001b[49m\u001b[43m \u001b[49m\u001b[43m\\\u001b[49m\n\u001b[32m     71\u001b[39m \u001b[43m                                    \u001b[49m\u001b[43mQuarter\u001b[49m\u001b[43m,\u001b[49m\u001b[43m \u001b[49m\u001b[43m\\\u001b[49m\n\u001b[32m     72\u001b[39m \u001b[43m                                    \u001b[49m\u001b[43mYear\u001b[49m\u001b[43m,\u001b[49m\u001b[43m \u001b[49m\u001b[43m\\\u001b[49m\n\u001b[32m     73\u001b[39m \u001b[43m                                    \u001b[49m\u001b[43mFiscalYear\u001b[49m\u001b[43m,\u001b[49m\u001b[43m \u001b[49m\u001b[43m\\\u001b[49m\n\u001b[32m     74\u001b[39m \u001b[43m                                    \u001b[49m\u001b[43misHoliday\u001b[49m\u001b[43m,\u001b[49m\u001b[43m \u001b[49m\u001b[43m\\\u001b[49m\n\u001b[32m     75\u001b[39m \u001b[43m                                    \u001b[49m\u001b[43misWeekend\u001b[49m\u001b[43m,\u001b[49m\u001b[43m \u001b[49m\u001b[43m\\\u001b[49m\n\u001b[32m     76\u001b[39m \u001b[43m                                    \u001b[49m\u001b[43mseason\u001b[49m\u001b[43m)\u001b[49m\u001b[43m)\u001b[49m\n\u001b[32m     78\u001b[39m day_number += \u001b[32m1\u001b[39m\n\u001b[32m     79\u001b[39m current_date += timedelta(days=\u001b[32m1\u001b[39m)\n",
      "\u001b[36mCell\u001b[39m\u001b[36m \u001b[39m\u001b[32mIn[7]\u001b[39m\u001b[32m, line 35\u001b[39m, in \u001b[36mdb.execute_sql_values\u001b[39m\u001b[34m(self, sql, values)\u001b[39m\n\u001b[32m     34\u001b[39m \u001b[38;5;28;01mdef\u001b[39;00m\u001b[38;5;250m \u001b[39m\u001b[34mexecute_sql_values\u001b[39m(\u001b[38;5;28mself\u001b[39m, sql, values):\n\u001b[32m---> \u001b[39m\u001b[32m35\u001b[39m     \u001b[38;5;28;43mself\u001b[39;49m\u001b[43m.\u001b[49m\u001b[43mcur\u001b[49m\u001b[43m.\u001b[49m\u001b[43mexecute\u001b[49m\u001b[43m(\u001b[49m\u001b[43msql\u001b[49m\u001b[43m,\u001b[49m\u001b[43m \u001b[49m\u001b[43mvalues\u001b[49m\u001b[43m)\u001b[49m\n",
      "\u001b[31mOperationalError\u001b[39m: no such table: date"
     ]
    }
   ],
   "source": [
    "def build_date_dimension():\n",
    "    db_handle = DB_HANDLES['DATA MART']\n",
    "    db_handle.connect()\n",
    "    db_handle.build_table('date')\n",
    "\n",
    "    start_date = date(2024,1,1)\n",
    "    end_date = date(2024,12,31)\n",
    "    \n",
    "    current_date = start_date\n",
    "    day_number = 1\n",
    "\n",
    "    holidays = [\"2024-01-01\", \\\n",
    "                \"2024-01-15\", \\\n",
    "                \"2024-02-19\", \\\n",
    "                \"2024-03-29\", \\\n",
    "                \"2024-05-27\", \\\n",
    "                \"2024-06-21\", \\\n",
    "                \"2024-07-04\", \\\n",
    "                \"2024-09-02\", \\\n",
    "                \"2024-10-14\", \\\n",
    "                \"2024-11-05\", \\\n",
    "                \"2024-11-11\", \\\n",
    "                \"2024-11-28\", \\\n",
    "                \"2024-12-25\"]\n",
    "\n",
    "    quarterDict = {1: 2, \\\n",
    "                   2: 3, 3: 3, 4: 3, \\\n",
    "                   5: 4, 6: 4, 7: 4, \\\n",
    "                   8: 1, 9: 1, 10: 1, \\\n",
    "                   11: 2, 12: 2}\n",
    "    \n",
    "    spring = date(2024,3,21)\n",
    "    summer = date(2024,6,21)\n",
    "    fall = date(2024,9,21)\n",
    "    winter = date(2024,12,21)\n",
    "\n",
    "    while (current_date <= end_date):\n",
    "        DateKey = day_number\n",
    "        PrettyDate = current_date.strftime('%Y-%M-%D')\n",
    "        DayNumberInMonth = current_date.strftime('%d')\n",
    "        DayNumberInYear = day_number\n",
    "        WeekNumberInYear = current_date.strftime('%W')\n",
    "        MonthNum = current_date.strftime('%m')\n",
    "        MonthTxt = current_date.strftime('%B')\n",
    "        Quarter = quarterDict[current_date.month]\n",
    "        Year = current_date.year\n",
    "        FiscalYear = 2023 if current_date.month < 8 else 2024\n",
    "        isHoliday = 'True' if current_date.strftime('%Y-%m-%d') in holidays else 'False'\n",
    "\n",
    "        # 'False' is more typical than True\n",
    "        isWeekend = 'False' if current_date.weekday() < 5 else 'True'\n",
    "\n",
    "        if spring <= current_date < summer:\n",
    "            season = \"Spring\"\n",
    "        elif summer <= current_date < fall:\n",
    "            season = \"Summer\"\n",
    "        elif fall <= current_date < winter:\n",
    "            season = \"Fall\"\n",
    "        else:\n",
    "            season = \"Winter\"\n",
    "\n",
    "        db_handle.execute_sql_values(sql='insert into date values \\\n",
    "                                    (?, ?, ?, ?, ?, ?, ?, ?, ?, ?, ?, ?, ?)', \\\n",
    "                                    values=(DateKey, \\\n",
    "                                            PrettyDate, \\\n",
    "                                            DayNumberInMonth, \\\n",
    "                                            DayNumberInYear, \\\n",
    "                                            WeekNumberInYear, \\\n",
    "                                            MonthNum, \\\n",
    "                                            MonthTxt, \\\n",
    "                                            Quarter, \\\n",
    "                                            Year, \\\n",
    "                                            FiscalYear, \\\n",
    "                                            isHoliday, \\\n",
    "                                            isWeekend, \\\n",
    "                                            season))\n",
    "        \n",
    "        day_number += 1\n",
    "        current_date += timedelta(days=1)\n",
    "\n",
    "    db_handle.commit()\n",
    "    db_handle.close()\n",
    "    print('Date Dimension Successfully Built')\n",
    "\n",
    "build_date_dimension()"
   ]
  },
  {
   "cell_type": "code",
   "execution_count": null,
   "id": "cccb05fd-772e-4196-8c68-c208f3921da8",
   "metadata": {},
   "outputs": [],
   "source": []
  }
 ],
 "metadata": {
  "kernelspec": {
   "display_name": "Python 3 (ipykernel)",
   "language": "python",
   "name": "python3"
  },
  "language_info": {
   "codemirror_mode": {
    "name": "ipython",
    "version": 3
   },
   "file_extension": ".py",
   "mimetype": "text/x-python",
   "name": "python",
   "nbconvert_exporter": "python",
   "pygments_lexer": "ipython3",
   "version": "3.12.9"
  }
 },
 "nbformat": 4,
 "nbformat_minor": 5
}
