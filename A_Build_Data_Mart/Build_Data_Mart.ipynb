{
 "cells": [
  {
   "cell_type": "markdown",
   "id": "da964ced-5fb8-41c1-a4b4-e1979b11a4c9",
   "metadata": {},
   "source": [
    "## Build Data Mart\n",
    "#### Contributors:\n",
    "##### Tean 8: Anthony Ung, Sean Jerzewski, Gideon Kipkorir\n",
    "##### Team 9: Rohith, Sneha Dasarla\n",
    "##### Team 10: Anmol Brahmbhatt, Nikita Brahmbhatt, Satya"
   ]
  },
  {
   "cell_type": "markdown",
   "id": "ccd1c30e-e490-467d-9364-2ed64628e295",
   "metadata": {},
   "source": [
    "## 0. Dependencies and Global Variables"
   ]
  },
  {
   "cell_type": "code",
   "execution_count": 1,
   "id": "5f9f911a-574c-441b-9dfe-25f49783a350",
   "metadata": {},
   "outputs": [],
   "source": [
    "import os\n",
    "from enum import Enum\n",
    "import csv\n",
    "import sqlite3 as lite\n",
    "from decimal import Decimal\n",
    "from datetime import date, datetime, timedelta"
   ]
  },
  {
   "cell_type": "code",
   "execution_count": 2,
   "id": "e689f6d5-f3ad-4ff1-adef-a63fc47134b1",
   "metadata": {},
   "outputs": [],
   "source": [
    "DB_HANDLES = {}"
   ]
  },
  {
   "cell_type": "markdown",
   "id": "3a86db21-1ae1-45df-b1d4-dc025971ab22",
   "metadata": {},
   "source": [
    "#"
   ]
  },
  {
   "cell_type": "markdown",
   "id": "ae19336d-b000-4c95-a903-939303456b0d",
   "metadata": {},
   "source": [
    "## 1. Gather the file paths\n",
    "  \n",
    "  \n",
    "## IMPORTANT: \n",
    "#### Most of these files are untracked on GitHub. it is each team members'   \n",
    "####   &emsp; &emsp; It is each team members' individual responsibilities  \n",
    "####   &emsp; &emsp; to build the Database and CSV files for themselves using the other Jupyter notebooks. "
   ]
  },
  {
   "cell_type": "code",
   "execution_count": 3,
   "id": "22c6f6dc-50c1-4057-a6c2-7d6f8924e8c9",
   "metadata": {},
   "outputs": [],
   "source": [
    "FILE_PATHS = {\n",
    "    'DB_TEAM_8' : './../0_SD_Team_8/store_team_8.db',\n",
    "    'DB_TEAM_9' : './../0_SD_Team_9/grocery_store.db',\n",
    "    'DB_TEAM_10' : './../0_SD_Team_10/grocery_team_10_v2.db',\n",
    "    'PRODUCTS_CSV' : './../2_Product_Mapping/PRODUCTS_MAPPED.csv'\n",
    "}\n",
    "\n",
    "DATA_MART_PATH = './Region_C_Data_Mart.db'"
   ]
  },
  {
   "cell_type": "code",
   "execution_count": 4,
   "id": "e4e4e81f-ad92-4712-844d-8a4c78cb5b49",
   "metadata": {},
   "outputs": [
    {
     "name": "stdout",
     "output_type": "stream",
     "text": [
      "OK - DB_TEAM_8 - './../0_SD_Team_8/store_team_8.db'\n",
      "OK - DB_TEAM_9 - './../0_SD_Team_9/grocery_store.db'\n",
      "OK - DB_TEAM_10 - './../0_SD_Team_10/grocery_team_10_v2.db'\n",
      "OK - PRODUCTS_CSV - './../2_Product_Mapping/PRODUCTS_MAPPED.csv'\n"
     ]
    }
   ],
   "source": [
    "ALL_FILES_OK = True\n",
    "\n",
    "for file_key in FILE_PATHS:\n",
    "    file_name = FILE_PATHS[file_key]\n",
    "    file_exists = os.path.isfile(file_name)\n",
    "    \n",
    "    if(file_exists):\n",
    "        print(f'OK - {file_key} - \\'{file_name}\\'')\n",
    "    else:\n",
    "        ALL_FILES_OK = False\n",
    "        print(f'MISSING - {file_key} - \\'{file_name}\\'')\n",
    "\n",
    "if not ALL_FILES_OK:\n",
    "    raise SystemExit('\\n' \"ERROR!\" '\\n' \"You are missing files!\" '\\n' \"Read and Follow the Cell instructions provided.\")"
   ]
  },
  {
   "cell_type": "markdown",
   "id": "4f4bd9c4-e582-40ec-a9d1-9cf20dc1c08e",
   "metadata": {},
   "source": [
    "#"
   ]
  },
  {
   "cell_type": "markdown",
   "id": "af1530d5-dd45-4da7-8311-4ac71017442b",
   "metadata": {},
   "source": [
    "## 2. Compile the table definitions"
   ]
  },
  {
   "cell_type": "code",
   "execution_count": 5,
   "id": "60503c0d-cf87-4f93-bbaf-1bc4cdaf763c",
   "metadata": {},
   "outputs": [],
   "source": [
    "'''\n",
    "    TABLE_DEFINITIONS is a dict as follows:\n",
    "        Key - the name of the table in the database\n",
    "        Value - the CREATE TABLE statement for the table\n",
    "    I wrote a lot of unused table definitions that will be useful\n",
    "        in a later HW.\n",
    "'''\n",
    "TABLE_DEFINITIONS = {\n",
    "    'date' : \\\n",
    "            'CREATE TABLE date(' \\\n",
    "                    'DateKey INT, ' \\\n",
    "                    'PrettyDate TEXT, ' \\\n",
    "                    'DayNumberInMonth INT, ' \\\n",
    "                    'DayNumberInYear INT, ' \\\n",
    "                    'WeekNumberInYear INT, ' \\\n",
    "                    'MonthNum INT, ' \\\n",
    "                    'MonthTxt TEXT, ' \\\n",
    "                    'Quarter INT, ' \\\n",
    "                    'Year INT,' \\\n",
    "                    'FiscalYear INT, ' \\\n",
    "                    'isHoliday INT, ' \\\n",
    "                    'isWeekend INT, ' \\\n",
    "                    'Season TEXT' ')',\n",
    "\n",
    "    'product': \\\n",
    "            'CREATE TABLE product(' \\\n",
    "                    'ProductKey INT,' \\\n",
    "                    'sku INT,' \\\n",
    "                    'product_name TEXT, ' \\\n",
    "                    'product_class_id INT, ' \\\n",
    "                    'subcategory TEXT, ' \\\n",
    "                    'category TEXT, ' \\\n",
    "                    'department TEXT, ' \\\n",
    "                    'product_family TEXT, ' \\\n",
    "                    'size TEXT, ' \\\n",
    "                    'case_count INT, ' \\\n",
    "                    'BrandName TEXT, ' \\\n",
    "                    'Manufacturer TEXT, ' \\\n",
    "                    'Supplier TEXT, ' \\\n",
    "                    'CostToStore REAL)',\n",
    "\n",
    "    'product_metadata': \\\n",
    "            'CREATE TABLE product_metadata(' \\\n",
    "                    'ProductKey INT,' \\\n",
    "                    'sku INT,' \\\n",
    "                    'old_type TEXT, ' \\\n",
    "                    'meta_code INT,' \\\n",
    "                    'meta_mapped_by TEXT, ' \\\n",
    "                    'meta_reason TEXT)',\n",
    "    \n",
    "    'store' : \\\n",
    "            'CREATE TABLE store(' \\\n",
    "                    'StoreKey INT, ' \\\n",
    "                    'StoreManager TEXT, ' \\\n",
    "                    'StoreStreetAddr TEXT, ' \\\n",
    "                    'StoreTown TEXT, ' \\\n",
    "                    'StoreZipCode TEXT, ' \\\n",
    "                    'StorePhoneNumber TEXT, ' \\\n",
    "                    'StoreState TEXT' ')',\n",
    "    \n",
    "    'sales_transactions': \\\n",
    "            'CREATE TABLE sales_transactions(' \\\n",
    "                    'DateKey INT, ' \\\n",
    "                    'DailyCustomerNumber INT, ' \\\n",
    "                    'ProductKey INT, ' \\\n",
    "                    'StoreKey INT, ' \\\n",
    "                    'QuantitySold INT, ' \\\n",
    "                    'TotalDollarSales REAL, ' \\\n",
    "                    'TotalCostToStore REAL, ' \\\n",
    "                    'GrossProfit REAL)',\n",
    "\n",
    "    'sales_daily': \\\n",
    "            'CREATE TABLE sales_daily(' \\\n",
    "                    'DateKey INT, ' \\\n",
    "                    'ProductKey INT, ' \\\n",
    "                    'StoreKey INT, ' \\\n",
    "                    'QuantitySoldToday INT, ' \\\n",
    "                    'CostOfItemsSold REAL, ' \\\n",
    "                    'SalesTotal REAL, ' \\\n",
    "                    'GrossProfit REAL)',\n",
    "\n",
    "    'inventory_daily' : \\\n",
    "            'CREATE TABLE inventory_daily(' \\\n",
    "                    'DateKey INT, ' \\\n",
    "                    'ProductKey INT, ' \\\n",
    "                    'StoreKey INT, ' \\\n",
    "                    'NumAvailable INT, '\n",
    "                    'CostToStoreItem FLOAT, ' \\\n",
    "                    'CostToStore FLOAT, ' \\\n",
    "                    'NumCasesPurchasedToDate INT)', \n",
    "\n",
    "    'inventory_quarterly' : \\\n",
    "            'CREATE TABLE inventory_quarterly(' \\\n",
    "                    'ProductKey INT, ' \\\n",
    "                    'StoreKey INT, ' \\\n",
    "                    'Quarter INT, ' \\\n",
    "                    'Year INT, ' \\\n",
    "                    'CasesPurchasedToDate INT, ' \\\n",
    "                    'CasesPurchasedThisQuarter INT, ' \\\n",
    "                    'CasesOnHand INT, ' \\\n",
    "                    'TotalCostToStoreThisQuarter FLOAT, ' \\\n",
    "                    'TotalSoldByStoreThisQuarter FLOAT, ' \\\n",
    "                    'TotalCostToStoreThisYTD FLOAT, ' \\\n",
    "                    'TotalSoldByStoreThisYTD FLOAT)'\n",
    "}\n"
   ]
  },
  {
   "cell_type": "markdown",
   "id": "fb792d7f-5e3e-41cc-ad5b-04b333e0c323",
   "metadata": {},
   "source": [
    "#"
   ]
  },
  {
   "cell_type": "markdown",
   "id": "be870414-a8b2-4e4a-b659-5d6cbc2b8539",
   "metadata": {},
   "source": [
    "## 3. Initialize the Database File and the Database API\n",
    "#### Note: The first cell in this block is destructive.\n",
    "#### If you need to see multiple versions of the database side-by-side, rename the db file before rerunning this notebook."
   ]
  },
  {
   "cell_type": "code",
   "execution_count": null,
   "id": "9a7b51f9-54a1-4320-9e7e-f87fde3f74e9",
   "metadata": {},
   "outputs": [],
   "source": [
    "if os.path.isfile(DATA_MART_PATH):\n",
    "    os.remove(DATA_MART_PATH)"
   ]
  },
  {
   "cell_type": "code",
   "execution_count": 6,
   "id": "b9912c16-cbb7-41fc-8553-4aac389be0af",
   "metadata": {},
   "outputs": [],
   "source": [
    "'''\n",
    "    This class provides one common point of interaction with my team's database.\n",
    "    Everything that writes to the database uses this API.\n",
    "'''\n",
    "class db_options(Enum):\n",
    "        DEFAULT = 0\n",
    "        RETURN_RESULTS = 1\n",
    "        PRINT_RESULTS = 2\n",
    "\n",
    "class db:\n",
    "    \n",
    "    def __init__(self, name):\n",
    "        self.name = rf\"{name}\"\n",
    "\n",
    "    def connect(self):\n",
    "        self.con = lite.connect(self.name)\n",
    "        self.cur = self.con.cursor()\n",
    "\n",
    "    def build_table(self, name):      \n",
    "        self.execute_sql(f'DROP TABLE IF EXISTS {name}')\n",
    "        self.execute_sql(TABLE_DEFINITIONS[name])\n",
    "    \n",
    "    def execute_sql(self, sql, options=db_options.DEFAULT):\n",
    "        if (options.value & db_options.RETURN_RESULTS.value):\n",
    "            results = self.cur.execute(sql).fetchall()\n",
    "            return results\n",
    "        elif (options.value & db_options.PRINT_RESULTS.value):\n",
    "            results = self.cur.execute(sql).fetchall()\n",
    "            for row in results:\n",
    "                print(row)\n",
    "        else:\n",
    "            self.cur.execute(sql)\n",
    "\n",
    "    def execute_sql_values(self, sql, values, options=db_options.DEFAULT):\n",
    "        if (options.value & db_options.RETURN_RESULTS.value):\n",
    "            results = self.cur.execute(sql, values).fetchall()\n",
    "            return results\n",
    "        elif (options.value & db_options.PRINT_RESULTS.value):\n",
    "            results = self.cur.execute(sql, values).fetchall()\n",
    "            for row in results:\n",
    "                print(row)\n",
    "        else:\n",
    "            self.cur.execute(sql, values)\n",
    "\n",
    "\n",
    "    def commit(self):\n",
    "        self.con.commit()\n",
    "\n",
    "    def close(self):\n",
    "        self.con.commit()\n",
    "        self.con.close()"
   ]
  },
  {
   "cell_type": "code",
   "execution_count": 7,
   "id": "6ddd3e8e-7d2d-4a84-a888-b64b72c7d138",
   "metadata": {},
   "outputs": [],
   "source": [
    "DB_HANDLES['DB_TEAM_8'] = db(FILE_PATHS['DB_TEAM_8'])\n",
    "DB_HANDLES['DB_TEAM_9'] = db(FILE_PATHS['DB_TEAM_9'])\n",
    "DB_HANDLES['DB_TEAM_10'] = db(FILE_PATHS['DB_TEAM_10'])\n",
    "DB_HANDLES['DATA_MART'] = db(DATA_MART_PATH)"
   ]
  },
  {
   "cell_type": "markdown",
   "id": "0c937a99-3fde-4dd6-bd92-cfe6536338a5",
   "metadata": {},
   "source": [
    "#"
   ]
  },
  {
   "cell_type": "markdown",
   "id": "40064d55-276c-4895-b58f-84649778b97b",
   "metadata": {},
   "source": [
    "## 4. Build the Dimension Tables"
   ]
  },
  {
   "cell_type": "markdown",
   "id": "90d1a815-1e9f-4fb4-9f61-bdf01df91eef",
   "metadata": {},
   "source": [
    "#### Product Dimension\n",
    "The presence of the CSV generated by the script is checked earlier."
   ]
  },
  {
   "cell_type": "code",
   "execution_count": null,
   "id": "4e27e99a-1f6b-45c4-8be8-965cc59486ef",
   "metadata": {},
   "outputs": [],
   "source": [
    "def build_product_table():\n",
    "    db_handle = DB_HANDLES['DATA_MART']\n",
    "    \n",
    "    with open(FILE_PATHS['PRODUCTS_CSV'], 'r') as csvfile:\n",
    "        db_handle.connect()\n",
    "\n",
    "        db_handle.build_table('product')\n",
    "        db_handle.build_table('product_metadata')\n",
    "        \n",
    "        for row in csv.DictReader(csvfile):\n",
    "            product_key = row['product_id']\n",
    "            sku = row['SKU']\n",
    "            product_name = row['Product Name']\n",
    "            product_class_id = row['product_class_id']\n",
    "            product_subcategory = row['product_subcategory']\n",
    "            product_category = row['product_category']\n",
    "            product_department = row['product_department']\n",
    "            product_family = row['product_family']\n",
    "            size = row['Size']\n",
    "            case_count = 12\n",
    "            brand_name = row['product_subcategory']\n",
    "            manufacturer = row['Manufacturer']\n",
    "            supplier = row['Supplier']\n",
    "            cost_to_store = round(float(Decimal(row['BasePrice'].strip('$'))),2)\n",
    "\n",
    "\n",
    "            old_type = row['itemType']\n",
    "            meta_code = row['meta_code']\n",
    "            meta_mapped_by = row['meta_mapped_by']\n",
    "            meta_reason = row['meta_reason']\n",
    "\n",
    "            db_handle.execute_sql_values(sql='insert into product values \\\n",
    "                                    (?, ?, ?, ?, ?, ?, ?, ?, ?, ?, ?, ?, ?, ?)', \\\n",
    "                                 values=(product_key, sku, product_name, \\\n",
    "                                        product_class_id, product_subcategory, product_category, product_department, product_family, \\\n",
    "                                        size, case_count,\n",
    "                                        brand_name, manufacturer, supplier, cost_to_store))\n",
    "\n",
    "            db_handle.execute_sql_values(sql='insert into product_metadata values \\\n",
    "                                    (?, ?, ?, ?, ?, ?)', \\\n",
    "                                    values=(product_key, sku, old_type, meta_code, meta_mapped_by, meta_reason))\n",
    "        \n",
    "        \n",
    "        print('Product and Product Metadata Tables Populated')\n",
    "        db_handle.commit()\n",
    "        db_handle.close()\n",
    "\n",
    "build_product_table()"
   ]
  },
  {
   "cell_type": "markdown",
   "id": "719d8d5c-9301-44dd-b903-1bd76abe6a3b",
   "metadata": {},
   "source": [
    "#### Store Dimension\n",
    "Code originally written by Gideon Kipkorir"
   ]
  },
  {
   "cell_type": "code",
   "execution_count": null,
   "id": "f8ae5449-5e01-470e-8731-1b0417216a88",
   "metadata": {},
   "outputs": [],
   "source": [
    "data = [\n",
    "    {\n",
    "        \"StoreKey\": 8,\n",
    "        \"StoreManager\": \"Anthony-Sean-Gideon\",\n",
    "        \"StoreStreetAddr\": \"1180 Seven Seas Dr\",\n",
    "        \"StoreTown\": \"Orlando\",\n",
    "        \"StoreZipCode\": \"32836\",\n",
    "        \"StorePhone#\": \"(407) 824-4500\",\n",
    "        \"StoreState\": \"FL\"\n",
    "    },\n",
    "    {\n",
    "        \"StoreKey\": 9,\n",
    "        \"StoreManager\": \"Rohith-Sneha\",\n",
    "        \"StoreStreetAddr\": \"201 Mullica Hill Road\",\n",
    "        \"StoreTown\": \"Glassboro\",\n",
    "        \"StoreZipCode\": \"08028\",\n",
    "        \"StorePhone#\": \"(856) 424-2222 x2500\",\n",
    "        \"StoreState\": \"NJ\"\n",
    "    },\n",
    "    {\n",
    "        \"StoreKey\": 10,\n",
    "        \"StoreManager\": \"Anmol-Nikita-Satya\",\n",
    "        \"StoreStreetAddr\": \"620 Anthony Ung Drive\",\n",
    "        \"StoreTown\": \"Miami\",\n",
    "        \"StoreZipCode\": \"33130\",\n",
    "        \"StorePhone#\": \"(856) 663-8006\",\n",
    "        \"StoreState\": \"FL\"\n",
    "    }\n",
    "]\n",
    "\n",
    "def build_store_dimension():\n",
    "    db_handle = DB_HANDLES['DATA_MART']\n",
    "    db_handle.connect()\n",
    "    db_handle.build_table('store')\n",
    "\n",
    "    for store in data:\n",
    "        db_handle.execute_sql_values(sql='insert into store values \\\n",
    "                                    (?, ?, ?, ?, ?, ?, ?)', \\\n",
    "                                    values=(store['StoreKey'], \\\n",
    "                                            store['StoreManager'], \\\n",
    "                                            store['StoreStreetAddr'], \\\n",
    "                                            store['StoreTown'], \\\n",
    "                                            store['StoreZipCode'], \\\n",
    "                                            store['StorePhone#'], \\\n",
    "                                            store['StoreState']))\n",
    "    \n",
    "    db_handle.commit()\n",
    "    db_handle.close()\n",
    "    print('Store Dimension Successfully Built')\n",
    "    \n",
    "\n",
    "build_store_dimension()"
   ]
  },
  {
   "cell_type": "markdown",
   "id": "ed0a6e0b-0849-40b3-b63d-3ab9f1ef7b4f",
   "metadata": {},
   "source": [
    "#### Date Dimension\n",
    "Logic originally written by Sean Jerzewski"
   ]
  },
  {
   "cell_type": "code",
   "execution_count": null,
   "id": "c97278fd-3a59-4bb5-9cca-dcd9d2a62b08",
   "metadata": {},
   "outputs": [],
   "source": [
    "def build_date_dimension():\n",
    "    db_handle = DB_HANDLES['DATA_MART']\n",
    "    db_handle.connect()\n",
    "    db_handle.build_table('date')\n",
    "\n",
    "    start_date = date(2024,1,1)\n",
    "    end_date = date(2024,12,31)\n",
    "    \n",
    "    current_date = start_date\n",
    "    day_number = 1\n",
    "\n",
    "    holidays = [\"2024-01-01\", \\\n",
    "                \"2024-01-15\", \\\n",
    "                \"2024-02-19\", \\\n",
    "                \"2024-03-29\", \\\n",
    "                \"2024-05-27\", \\\n",
    "                \"2024-06-21\", \\\n",
    "                \"2024-07-04\", \\\n",
    "                \"2024-09-02\", \\\n",
    "                \"2024-10-14\", \\\n",
    "                \"2024-11-05\", \\\n",
    "                \"2024-11-11\", \\\n",
    "                \"2024-11-28\", \\\n",
    "                \"2024-12-25\"]\n",
    "\n",
    "    quarterDict = {1: 2, \\\n",
    "                   2: 3, 3: 3, 4: 3, \\\n",
    "                   5: 4, 6: 4, 7: 4, \\\n",
    "                   8: 1, 9: 1, 10: 1, \\\n",
    "                   11: 2, 12: 2}\n",
    "    \n",
    "    spring = date(2024,3,21)\n",
    "    summer = date(2024,6,21)\n",
    "    fall = date(2024,9,21)\n",
    "    winter = date(2024,12,21)\n",
    "\n",
    "    while (current_date <= end_date):\n",
    "        DateKey = day_number\n",
    "        PrettyDate = current_date.strftime('%Y-%M-%D')\n",
    "        DayNumberInMonth = current_date.strftime('%d')\n",
    "        DayNumberInYear = day_number\n",
    "        WeekNumberInYear = current_date.strftime('%W')\n",
    "        MonthNum = current_date.strftime('%m')\n",
    "        MonthTxt = current_date.strftime('%B')\n",
    "        Quarter = quarterDict[current_date.month]\n",
    "        Year = current_date.year\n",
    "        FiscalYear = 2023 if current_date.month < 8 else 2024\n",
    "        isHoliday = 'True' if current_date.strftime('%Y-%m-%d') in holidays else 'False'\n",
    "\n",
    "        # 'False' is more typical than True\n",
    "        isWeekend = 'False' if current_date.weekday() < 5 else 'True'\n",
    "\n",
    "        if spring <= current_date < summer:\n",
    "            season = \"Spring\"\n",
    "        elif summer <= current_date < fall:\n",
    "            season = \"Summer\"\n",
    "        elif fall <= current_date < winter:\n",
    "            season = \"Fall\"\n",
    "        else:\n",
    "            season = \"Winter\"\n",
    "\n",
    "        db_handle.execute_sql_values(sql='insert into date values \\\n",
    "                                    (?, ?, ?, ?, ?, ?, ?, ?, ?, ?, ?, ?, ?)', \\\n",
    "                                    values=(DateKey, \\\n",
    "                                            PrettyDate, \\\n",
    "                                            DayNumberInMonth, \\\n",
    "                                            DayNumberInYear, \\\n",
    "                                            WeekNumberInYear, \\\n",
    "                                            MonthNum, \\\n",
    "                                            MonthTxt, \\\n",
    "                                            Quarter, \\\n",
    "                                            Year, \\\n",
    "                                            FiscalYear, \\\n",
    "                                            isHoliday, \\\n",
    "                                            isWeekend, \\\n",
    "                                            season))\n",
    "        \n",
    "        day_number += 1\n",
    "        current_date += timedelta(days=1)\n",
    "\n",
    "    db_handle.commit()\n",
    "    db_handle.close()\n",
    "    print('Date Dimension Successfully Built')\n",
    "\n",
    "build_date_dimension()"
   ]
  },
  {
   "cell_type": "markdown",
   "id": "94d94772-8090-464f-88d4-be2461afdfde",
   "metadata": {},
   "source": [
    "#"
   ]
  },
  {
   "cell_type": "markdown",
   "id": "6f6f571b-a056-4a7f-b307-21fcb187c539",
   "metadata": {},
   "source": [
    "## 5. Build the tables"
   ]
  },
  {
   "cell_type": "markdown",
   "id": "dd582c67-d3e0-4521-bdcb-de149acda1bf",
   "metadata": {},
   "source": [
    "#### Create the table"
   ]
  },
  {
   "cell_type": "code",
   "execution_count": null,
   "id": "9205f78b-c8bf-445b-a388-157f7244c6eb",
   "metadata": {},
   "outputs": [],
   "source": [
    "db_handle = DB_HANDLES['DATA_MART']\n",
    "db_handle.connect()\n",
    "db_handle.build_table('sales_transactions')\n",
    "db_handle.build_table('inventory_daily')\n",
    "db_handle.commit()\n",
    "db_handle.close()\n"
   ]
  },
  {
   "cell_type": "markdown",
   "id": "1f17f0ff-17fd-4bfb-95c0-1caa7d98713c",
   "metadata": {},
   "source": [
    "#"
   ]
  },
  {
   "cell_type": "markdown",
   "id": "f43192f2-7254-4ee3-a6d5-654ca799d359",
   "metadata": {},
   "source": [
    "## 6. Team 8's ETL"
   ]
  },
  {
   "cell_type": "markdown",
   "id": "84e12a4a-2c9a-47ad-b3d9-77b24425147b",
   "metadata": {},
   "source": [
    "#### I. Build the Data Structures Necessary to ETL from Team 8's Database"
   ]
  },
  {
   "cell_type": "code",
   "execution_count": null,
   "id": "3bf5d70f-7f99-4ece-95c4-188b6aea64b3",
   "metadata": {},
   "outputs": [],
   "source": [
    "DATE_KEYS = {}\n",
    "PRODUCTS_LOOKUP = {}\n",
    "\n",
    "def build_data_structures():\n",
    "    start_date = date(2024,1,1)\n",
    "    end_date = date(2024,12,31)\n",
    "    current_date = start_date\n",
    "    \n",
    "    date_key = 1\n",
    "    \n",
    "    while (current_date <= end_date):\n",
    "        date_str = current_date.strftime('%Y-%m-%d')\n",
    "        DATE_KEYS[date_str] = date_key\n",
    "    \n",
    "        date_key += 1\n",
    "        current_date += timedelta(days=1)\n",
    "    \n",
    "    db_handle = DB_HANDLES['DATA_MART']\n",
    "    db_handle.connect()\n",
    "    \n",
    "    sql = 'SELECT sku, ProductKey, CostToStore FROM product'\n",
    "    results = db_handle.execute_sql(sql, options=db_options.RETURN_RESULTS)\n",
    "    for row in results:\n",
    "        PRODUCTS_LOOKUP[str(row[0])] = {'ProductKey': row[1], 'CostToStore': row[2]}\n",
    "    \n",
    "    db_handle.close()\n",
    "\n",
    "build_data_structures()"
   ]
  },
  {
   "cell_type": "markdown",
   "id": "4cb19892-7592-4de8-9006-ceb9fd39b166",
   "metadata": {},
   "source": [
    "#### II. Sales"
   ]
  },
  {
   "cell_type": "code",
   "execution_count": null,
   "id": "40cbcfe9-f010-4a20-8fdb-ea500444de64",
   "metadata": {},
   "outputs": [],
   "source": [
    "def etl_team_8_sales():\n",
    "    db_handle_old = DB_HANDLES['DB_TEAM_8']\n",
    "    db_handle_old.connect()\n",
    "    \n",
    "    sql_retrieve = 'SELECT date, sku, customer_number, COUNT(*), SUM(salesPrice )' \\\n",
    "            'from sales_transactions GROUP BY date, customer_number, sku'\n",
    "    \n",
    "    \n",
    "    db_handle_new = DB_HANDLES['DATA_MART']\n",
    "    db_handle_new.connect()\n",
    "    \n",
    "    sql_insert = 'INSERT INTO sales_transactions VALUES (?, ?, ?, ?, ?, ?, ?, ?)'\n",
    "    \n",
    "    num_records = 0\n",
    "\n",
    "    print(f'{datetime.now()} - Started Query')\n",
    "    results = db_handle_old.execute_sql(sql_retrieve, options=db_options.RETURN_RESULTS)\n",
    "    \n",
    "    print(f'{datetime.now()} - Started Insertions')\n",
    "    for row in results:\n",
    "        DateKey = DATE_KEYS[row[0]]\n",
    "        DailyCustomerNumber = row[2]\n",
    "        ProductKey = PRODUCTS_LOOKUP[str(row[1])]['ProductKey']\n",
    "        StoreKey = 8\n",
    "        QuantitySold = row[3]\n",
    "        TotalDollarSales = row[4]\n",
    "        TotalCostToStore = round((row[4] - (row[3] * PRODUCTS_LOOKUP[str(row[1])]['CostToStore'])), 2)\n",
    "        GrossProfit = round((TotalDollarSales - TotalCostToStore), 2)\n",
    "    \n",
    "        values = (DateKey, DailyCustomerNumber, ProductKey, StoreKey, \\\n",
    "                 QuantitySold, TotalDollarSales, TotalCostToStore, GrossProfit)\n",
    "    \n",
    "        num_records += 1\n",
    "        db_handle_new.execute_sql_values(sql_insert, values=values)\n",
    "    \n",
    "        if(num_records % 1000000 == 0):\n",
    "            db_handle.commit()\n",
    "            print(f'{datetime.now()} - Committed record {num_records}')\n",
    "    \n",
    "    print(f'{datetime.now()} - Committed record {num_records}')\n",
    "    db_handle_new.commit()\n",
    "    db_handle_new.close()\n",
    "    \n",
    "    db_handle_old.close()\n",
    "\n",
    "etl_team_8_sales()"
   ]
  },
  {
   "cell_type": "markdown",
   "id": "e76a9c2e-b1f2-4018-9de7-8c1c685b75b9",
   "metadata": {},
   "source": [
    "#### Inventory"
   ]
  },
  {
   "cell_type": "code",
   "execution_count": null,
   "id": "b8a49c86-3f90-435c-8463-eb6a29c65624",
   "metadata": {},
   "outputs": [],
   "source": [
    "def etl_team_8_inventory():\n",
    "    db_handle_old = DB_HANDLES['DB_TEAM_8']\n",
    "    db_handle_old.connect()\n",
    "    \n",
    "    sql_retrieve = 'SELECT sku, date, MIN(items_left), MAX(cases_ordered)' \\\n",
    "            'FROM products ' \\\n",
    "            'JOIN sales_transactions USING (sku)' \\\n",
    "            'GROUP BY date, sku;'\n",
    "\n",
    "    print(f'{datetime.now()} - Started Query')\n",
    "    results = db_handle_old.execute_sql(sql_retrieve, options=db_options.RETURN_RESULTS)\n",
    "    print(f'{datetime.now()} - Started Insertions')\n",
    "\n",
    "    db_handle_new = DB_HANDLES['DATA_MART']\n",
    "    db_handle_new.connect()\n",
    "    \n",
    "    sql_insert = 'INSERT INTO inventory_daily VALUES (?, ?, ?, ?, ?, ?, ?)'\n",
    "\n",
    "    num_records = 0\n",
    "    for row in results:\n",
    "        DateKey = DATE_KEYS[row[1]]\n",
    "        ProductKey = PRODUCTS_LOOKUP[str(row[0])]['ProductKey']\n",
    "        StoreKey = 8\n",
    "        NumAvailable = row[2]\n",
    "        CostToStoreItem = round((row[2]*PRODUCTS_LOOKUP[str(row[0])]['CostToStore']), 2)\n",
    "        CostToStore = round(((((row[2]+11)//12)*12)*PRODUCTS_LOOKUP[str(row[0])]['CostToStore']), \\\n",
    "                            2)\n",
    "        NumCasesPurchasedToDate = row[3]\n",
    "        \n",
    "        values = (DateKey, ProductKey, StoreKey, NumAvailable, \\\n",
    "                 CostToStoreItem, CostToStore, NumCasesPurchasedToDate)\n",
    "    \n",
    "        num_records += 1\n",
    "        db_handle_new.execute_sql_values(sql_insert, values=values)\n",
    "    \n",
    "        if(num_records % 100000 == 0):\n",
    "            db_handle.commit()\n",
    "            print(f'{datetime.now()} - Committed record {num_records}')\n",
    "\n",
    "    print(f'{datetime.now()} - Committed record {num_records}')\n",
    "    db_handle_new.commit()\n",
    "    db_handle_new.close()\n",
    "    \n",
    "    db_handle_old.close()\n",
    "\n",
    "etl_team_8_inventory()"
   ]
  },
  {
   "cell_type": "markdown",
   "id": "f5fd154f-2af4-4593-bae3-7b8c23d9103b",
   "metadata": {},
   "source": [
    "#"
   ]
  },
  {
   "cell_type": "markdown",
   "id": "4ed0e58a-a2e5-4c11-b825-fb34ff9b6610",
   "metadata": {},
   "source": [
    "## 7. Team 9's ETL"
   ]
  },
  {
   "cell_type": "markdown",
   "id": "2164059b-1f72-4b2f-9551-e9e6aaa7995e",
   "metadata": {},
   "source": [
    "#"
   ]
  },
  {
   "cell_type": "markdown",
   "id": "9498233d-2d10-4c33-8e5f-eab8b1345d83",
   "metadata": {},
   "source": [
    "## 8. Team 10's ETL"
   ]
  },
  {
   "cell_type": "markdown",
   "id": "b199ea94-d8f5-4e42-b4cd-c71f09041fb6",
   "metadata": {},
   "source": [
    "#"
   ]
  },
  {
   "cell_type": "markdown",
   "id": "8bea7104-d163-4375-8999-d56ff241f664",
   "metadata": {},
   "source": [
    "## 9. Roll up from the transaction grain to the daily grain"
   ]
  },
  {
   "cell_type": "code",
   "execution_count": null,
   "id": "361cc691-cf04-4a62-b288-6bf2e6dbd427",
   "metadata": {},
   "outputs": [],
   "source": [
    "def roll_up_sales_transactions():\n",
    "    db_handle_new = DB_HANDLES['DATA_MART']\n",
    "    db_handle_new.connect()\n",
    "\n",
    "    db_handle.build_table('sales_daily')\n",
    "    \n",
    "    sql_retrieve = \\\n",
    "                'SELECT DateKey, ProductKey, StoreKey, SUM(QuantitySold), SUM(TotalDollarSales), SUM(TotalCostToStore), SUM(GrossProfit) ' \\\n",
    "                'FROM sales_transactions ' \\\n",
    "                'GROUP BY StoreKey, ProductKey, DateKey '\\\n",
    "                'ORDER BY 1, 2, 3;'\n",
    "\n",
    "    sql_insert = 'INSERT INTO sales_daily VALUES (?, ?, ?, ?, ?, ?, ?)'\n",
    "\n",
    "    print(f'{datetime.now()} - Started Query')\n",
    "    results = db_handle_new.execute_sql(sql_retrieve, options=db_options.RETURN_RESULTS)\n",
    "    print(f'{datetime.now()} - Started Insertions')\n",
    "\n",
    "    num_records = 0\n",
    "    \n",
    "    for row in results:\n",
    "        DateKey = row[0]\n",
    "        ProductKey = row[1]\n",
    "        StoreKey = row[2]\n",
    "        QuantitySold = round(row[3], 2)\n",
    "        TotalDollarSales = round(row[4], 2)\n",
    "        TotalCostToStore = round(row[5], 2)\n",
    "        GrossProfit = round(row[6], 2)\n",
    "\n",
    "        values = (DateKey, ProductKey, StoreKey, QuantitySold, TotalDollarSales, TotalCostToStore, GrossProfit)\n",
    "        \n",
    "        db_handle_new.execute_sql_values(sql_insert, values=values)\n",
    "\n",
    "        num_records += 1\n",
    "        if(num_records % 100000 == 0):\n",
    "            db_handle.commit()\n",
    "            print(f'{datetime.now()} - Committed record {num_records}')\n",
    "\n",
    "    print(f'{datetime.now()} - Committed record {num_records}')\n",
    "    db_handle_new.commit()\n",
    "    db_handle_new.close()\n",
    "\n",
    "    \n",
    "roll_up_sales_transactions()\n"
   ]
  },
  {
   "cell_type": "markdown",
   "id": "b7627c04-afe9-4fe4-af47-cda9ad52bb47",
   "metadata": {},
   "source": [
    "#"
   ]
  },
  {
   "cell_type": "markdown",
   "id": "149bea3b-da75-400a-84b2-98c718583a52",
   "metadata": {},
   "source": [
    "## 10. Roll Up Inventory From Inventory to Quarterly Grain"
   ]
  },
  {
   "cell_type": "markdown",
   "id": "2167ffd8-fa58-43a1-a46c-f89ba6947c2c",
   "metadata": {},
   "source": [
    "#### I. Fill in gaps (i.e. missing Date-Store-Product tuples)"
   ]
  },
  {
   "cell_type": "code",
   "execution_count": 8,
   "id": "787f3c56-2b0f-4771-8be3-84c60d62a534",
   "metadata": {},
   "outputs": [
    {
     "name": "stdout",
     "output_type": "stream",
     "text": [
      "2025-03-25 14:54:07.794969 - Started Query\n",
      "2025-03-25 14:54:18.034017 - Found 20550 Gaps\n",
      "2025-03-25 15:09:59.201459 - Filled gaps\n"
     ]
    }
   ],
   "source": [
    "def fill_gaps():\n",
    "    db_handle_new = DB_HANDLES['DATA_MART']\n",
    "    db_handle_new.connect()\n",
    "\n",
    "    sql_find_gaps = 'WITH date_store_product_tuples AS (' \\\n",
    "                        'SELECT StoreKey, DateKey, ProductKey ' \\\n",
    "                        'FROM date ' \\\n",
    "                            'CROSS JOIN product ' \\\n",
    "                            'CROSS JOIN store ' \\\n",
    "                        'WHERE StoreKey = 8' \\\n",
    "                    ') ' \\\n",
    "                    'SELECT * ' \\\n",
    "                    'FROM date_store_product_tuples AS d ' \\\n",
    "                    'LEFT JOIN inventory_daily AS i ON ' \\\n",
    "                        '((d.StoreKey = i.StoreKey) AND (d.DateKey = i.DateKey) AND (d.ProductKey = i.ProductKey))' \\\n",
    "                    'WHERE ((i.StoreKey IS NULL) AND (i.DateKey IS NULL) AND (i.ProductKey IS NULL)) '\\\n",
    "                    'ORDER BY d.StoreKey, d.DateKey, d.ProductKey';\n",
    "\n",
    "    sql_find_prev = 'SELECT * FROM inventory_daily WHERE (StoreKey = ? AND DateKey = ? AND ProductKey = ?)'\n",
    "    \n",
    "    sql_insert = 'INSERT INTO inventory_daily VALUES (?, ?, ?, ?, ?, ?, ?)'\n",
    "\n",
    "    print(f'{datetime.now()} - Started Query')\n",
    "    results = db_handle_new.execute_sql(sql_find_gaps, options=db_options.RETURN_RESULTS)\n",
    "    print(f'{datetime.now()} - Found {len(results)} Gaps')\n",
    "\n",
    "    '''\n",
    "        For each gap, go back to the previous day and copy the values.\n",
    "        Since they are ordered, I may assume there exists an entry from the previous day.\n",
    "        I allow NULLS for 2024-01-01 and any consecutive days where a given product was not sold.\n",
    "    '''\n",
    "    for row in results:\n",
    "        store_key = row[0]\n",
    "        date_key = row[1]\n",
    "        product_key = row[2]\n",
    "\n",
    "        values = (store_key, (date_key - 1), product_key)\n",
    "        \n",
    "        result = db_handle_new.execute_sql_values(sql_find_prev, values=values, options=db_options.RETURN_RESULTS)\n",
    "\n",
    "        if (len(result) != 0):\n",
    "            row = result[0]\n",
    "            values = (date_key, row[1], row[2], row[3], row[4], row[5], row[6])\n",
    "            db_handle_new.execute_sql_values(sql_insert, values)\n",
    "\n",
    "    print(f'{datetime.now()} - Filled gaps')\n",
    "\n",
    "    db_handle_new.commit()\n",
    "    db_handle_new.close()\n",
    "\n",
    "fill_gaps()"
   ]
  },
  {
   "cell_type": "code",
   "execution_count": null,
   "id": "16aedffa-7324-44a3-b16d-b187c4a422d9",
   "metadata": {},
   "outputs": [],
   "source": []
  }
 ],
 "metadata": {
  "kernelspec": {
   "display_name": "Python 3 (ipykernel)",
   "language": "python",
   "name": "python3"
  },
  "language_info": {
   "codemirror_mode": {
    "name": "ipython",
    "version": 3
   },
   "file_extension": ".py",
   "mimetype": "text/x-python",
   "name": "python",
   "nbconvert_exporter": "python",
   "pygments_lexer": "ipython3",
   "version": "3.12.9"
  }
 },
 "nbformat": 4,
 "nbformat_minor": 5
}
