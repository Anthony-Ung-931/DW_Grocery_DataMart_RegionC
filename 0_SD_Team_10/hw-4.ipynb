{
 "cells": [
  {
   "cell_type": "code",
   "execution_count": 46,
   "id": "4cccf4f4-5e35-4a54-ab9f-3419bdabc49d",
   "metadata": {},
   "outputs": [
    {
     "name": "stdout",
     "output_type": "stream",
     "text": [
      "✅ Updated grocery data has been successfully saved as 'updated_grocery_data.csv'\n"
     ]
    }
   ],
   "source": [
    "import pandas as pd\n",
    "import numpy as np\n",
    "import random\n",
    "from collections import defaultdict\n",
    "from datetime import timedelta\n",
    "\n",
    "# Constants\n",
    "DAILY_CUSTOMER_MIN, DAILY_CUSTOMER_MAX = 1070, 1100\n",
    "WEEKEND_EXTRA_CUSTOMERS = 50\n",
    "PRICE_MULTIPLIER, CASE_SIZE = 1.15, 12\n",
    "INITIAL_DAYS_SUPPLY, INITIAL_MILK_SUPPLY = 3, 1.5\n",
    "\n",
    "# Load product data\n",
    "product_file = \"/Users/nikitabrahmbhatt/Desktop/study/DW/DWHW-2/Products1.txt\"\n",
    "df_products = pd.read_csv(product_file, delimiter=\"|\", encoding=\"ISO-8859-1\")\n",
    "df_products[\"BasePrice\"] = df_products[\"BasePrice\"].str.replace(\"$\", \"\", regex=False).astype(float)\n",
    "product_lookup = df_products.set_index(\"SKU\")[\"BasePrice\"].to_dict()\n",
    "skus = df_products[\"SKU\"].values\n",
    "\n",
    "# Initialize inventory\n",
    "inventory = {sku: max(INITIAL_DAYS_SUPPLY * 40, CASE_SIZE) for sku in skus}\n",
    "inventory[\"Milk\"] = max(INITIAL_MILK_SUPPLY * 40, CASE_SIZE)\n",
    "total_cases_ordered = defaultdict(int)\n",
    "\n",
    "# Generate sales data\n",
    "sales_data, start_date = [], pd.Timestamp(\"2024-01-01\")\n",
    "dates = [start_date + timedelta(days=i) for i in range(365)]\n",
    "\n",
    "for date in dates:\n",
    "    daily_customers = random.randint(DAILY_CUSTOMER_MIN, DAILY_CUSTOMER_MAX) + (WEEKEND_EXTRA_CUSTOMERS if date.weekday() >= 5 else 0)\n",
    "\n",
    "    # Restock process - Check inventory levels and restock if necessary\n",
    "    for sku in inventory:\n",
    "        # Milk has different restocking logic\n",
    "        if sku == \"Milk\":\n",
    "            threshold = INITIAL_MILK_SUPPLY * 40  # 1.5 days of supply for Milk\n",
    "        else:\n",
    "            threshold = INITIAL_DAYS_SUPPLY * 40  # 3 days of supply for other products\n",
    "        \n",
    "        if inventory[sku] < threshold:\n",
    "            # Calculate how many cases to order\n",
    "            cases_to_order = ((threshold - inventory[sku]) // CASE_SIZE) + 1\n",
    "            inventory[sku] += cases_to_order * CASE_SIZE\n",
    "            total_cases_ordered[sku] += cases_to_order\n",
    "\n",
    "    # Simulate sales\n",
    "    for customer_id in range(daily_customers):\n",
    "        purchased_items = np.random.choice(skus, size=random.randint(1, 5), replace=True)\n",
    "        for sku in purchased_items:\n",
    "            if inventory[sku] > 0:\n",
    "                # Item is available, so reduce the inventory by 1\n",
    "                inventory[sku] -= 1\n",
    "                sales_data.append([date.strftime(\"%Y%m%d\"), customer_id, sku, round(product_lookup[sku] * PRICE_MULTIPLIER, 2), inventory[sku], total_cases_ordered[sku]])\n",
    "            else:\n",
    "                # If item is out of stock, substitute with another available item\n",
    "                substitutes = [s for s in skus if inventory[s] > 0]\n",
    "                if substitutes:\n",
    "                    new_sku = random.choice(substitutes)\n",
    "                    inventory[new_sku] -= 1\n",
    "                    sales_data.append([date.strftime(\"%Y%m%d\"), customer_id, new_sku, round(product_lookup[new_sku] * PRICE_MULTIPLIER, 2), inventory[new_sku], total_cases_ordered[new_sku]])\n",
    "\n",
    "# Save results to CSV\n",
    "df_sales = pd.DataFrame(sales_data, columns=[\"Date\", \"Customer#\", \"SKU\", \"Price\", \"ItemsLeft\", \"TotalCasesOrdered\"])\n",
    "df_sales.to_csv(\"updated_grocery_data.csv\", index=False)\n",
    "print(\"✅ Updated grocery data has been successfully saved as 'updated_grocery_data.csv'\")\n"
   ]
  },
  {
   "cell_type": "code",
   "execution_count": null,
   "id": "2ecdd9dc-3789-4fd0-98e6-2f117580b8e6",
   "metadata": {},
   "outputs": [],
   "source": []
  }
 ],
 "metadata": {
  "kernelspec": {
   "display_name": "Python [conda env:base] *",
   "language": "python",
   "name": "conda-base-py"
  },
  "language_info": {
   "codemirror_mode": {
    "name": "ipython",
    "version": 3
   },
   "file_extension": ".py",
   "mimetype": "text/x-python",
   "name": "python",
   "nbconvert_exporter": "python",
   "pygments_lexer": "ipython3",
   "version": "3.12.7"
  }
 },
 "nbformat": 4,
 "nbformat_minor": 5
}
