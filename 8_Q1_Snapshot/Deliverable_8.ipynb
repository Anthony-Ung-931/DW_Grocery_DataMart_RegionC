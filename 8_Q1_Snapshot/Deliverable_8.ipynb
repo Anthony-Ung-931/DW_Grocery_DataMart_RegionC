{
 "cells": [
  {
   "cell_type": "markdown",
   "id": "a54260cc-6069-4aa8-8971-8efa417439ab",
   "metadata": {},
   "source": [
    "# Deliverable 8\n",
    "Breitzman wants:\n",
    "Quarterly Snapshots By Region"
   ]
  },
  {
   "cell_type": "code",
   "execution_count": 1,
   "id": "ba758460-a49f-4982-b591-4fb7c3beab21",
   "metadata": {},
   "outputs": [],
   "source": [
    "import os\n",
    "from enum import Enum\n",
    "import csv\n",
    "import sqlite3 as lite\n",
    "from decimal import Decimal\n",
    "from datetime import date, datetime, timedelta"
   ]
  },
  {
   "cell_type": "code",
   "execution_count": 2,
   "id": "dc2f917e-49df-462b-b559-4f2f3d45aed0",
   "metadata": {},
   "outputs": [],
   "source": [
    "FILE_PATHS = {\n",
    "    'DB_TEAM_8' : './../0_SD_Team_8/store_team_8.db',\n",
    "    'DB_TEAM_9' : './../0_SD_Team_9/grocery_store.db',\n",
    "    'DB_TEAM_10' : './../0_SD_Team_10/grocery_team_10_v2.db',\n",
    "    'PRODUCTS_CSV' : './../2_Product_Mapping/PRODUCTS_MAPPED.csv'\n",
    "}\n",
    "\n",
    "DATA_MART_PATH = './../A_Build_Data_Mart/Region_C_Data_Mart.db'"
   ]
  },
  {
   "cell_type": "code",
   "execution_count": 3,
   "id": "6a0a2403-5179-488e-be53-6da8c6fe05ab",
   "metadata": {},
   "outputs": [
    {
     "name": "stdout",
     "output_type": "stream",
     "text": [
      "OK - './../A_Build_Data_Mart/Region_C_Data_Mart.db'\n"
     ]
    }
   ],
   "source": [
    "file_exists = os.path.isfile(DATA_MART_PATH)\n",
    "\n",
    "if(file_exists):\n",
    "    print(f'OK - \\'{DATA_MART_PATH}\\'')\n",
    "else:\n",
    "    print(f'MISSING - \\'{DATA_MART_PATH}\\'')\n",
    "    raise SystemExit('\\n' \"ERROR!\" '\\n' \"You are missing files!\" '\\n' \"Read and Follow the Cell instructions provided.\")"
   ]
  },
  {
   "cell_type": "code",
   "execution_count": 4,
   "id": "8797db2e-42ca-4271-9a91-b7df97cde190",
   "metadata": {},
   "outputs": [],
   "source": [
    "'''\n",
    "    If I try to make db_options an inner class to db, \n",
    "        I get an error saying that the class is undefined.\n",
    "'''\n",
    "class db_options(Enum):\n",
    "        DEFAULT = 0\n",
    "        RETURN_RESULTS = 1\n",
    "        PRINT_RESULTS = 2\n",
    "\n",
    "class db:\n",
    "    \n",
    "    def __init__(self, name):\n",
    "        self.name = rf\"{name}\"\n",
    "\n",
    "    def connect(self):\n",
    "        self.con = lite.connect(self.name)\n",
    "        self.cur = self.con.cursor()\n",
    "\n",
    "    def build_table(self, name):      \n",
    "        self.execute_sql(f'DROP TABLE IF EXISTS {name}')\n",
    "        self.execute_sql(TABLE_DEFINITIONS[name])\n",
    "    \n",
    "    def execute_sql(self, sql, options=db_options.DEFAULT):\n",
    "        if (options.value & db_options.RETURN_RESULTS.value):\n",
    "            results = self.cur.execute(sql).fetchall()\n",
    "            return results\n",
    "        elif (options.value & db_options.PRINT_RESULTS.value):\n",
    "            results = self.cur.execute(sql).fetchall()\n",
    "            for row in results:\n",
    "                print(row)\n",
    "        else:\n",
    "            self.cur.execute(sql)\n",
    "\n",
    "    def execute_sql_values(self, sql, values, options=db_options.DEFAULT):\n",
    "        if (options.value & db_options.RETURN_RESULTS.value):\n",
    "            results = self.cur.execute(sql, values).fetchall()\n",
    "            return results\n",
    "        elif (options.value & db_options.PRINT_RESULTS.value):\n",
    "            results = self.cur.execute(sql, values).fetchall()\n",
    "            for row in results:\n",
    "                print(row)\n",
    "        else:\n",
    "            self.cur.execute(sql, values)\n",
    "\n",
    "\n",
    "    def commit(self):\n",
    "        self.con.commit()\n",
    "\n",
    "    def close(self):\n",
    "        self.con.commit()\n",
    "        self.con.close()"
   ]
  },
  {
   "cell_type": "code",
   "execution_count": 5,
   "id": "6456c47d-1412-45d5-bc97-6a4163c42340",
   "metadata": {},
   "outputs": [],
   "source": [
    "DB_HANDLE = db(DATA_MART_PATH)"
   ]
  },
  {
   "cell_type": "code",
   "execution_count": 6,
   "id": "09993407-1c05-42c7-8e54-4b8f9f606292",
   "metadata": {},
   "outputs": [],
   "source": [
    "DB_HANDLE.connect()\n",
    "\n",
    "results = DB_HANDLE.execute_sql('SELECT * FROM inventory_quarterly WHERE Quarter = 1 ORDER BY StoreKey, ProductKey', options=db_options.RETURN_RESULTS)\n",
    "\n",
    "column_names = []\n",
    "\n",
    "for item in DB_HANDLE.cur.description:\n",
    "    column_names.append(item[0])\n",
    "\n",
    "FILE_NAME = 'Deliverable_8_Q1_Snapshot.txt'\n",
    "\n",
    "try:\n",
    "    os.delete(FILE_NAME)\n",
    "except:\n",
    "    # Do nothing\n",
    "    pass\n",
    "\n",
    "with open(FILE_NAME, 'w') as csvfile:\n",
    "    writer = csv.writer(csvfile)\n",
    "    writer.writerow(column_names)\n",
    "\n",
    "    for row in results:\n",
    "        writer.writerow(row)\n",
    "\n",
    "DB_HANDLE.close()"
   ]
  },
  {
   "cell_type": "code",
   "execution_count": null,
   "id": "8ce17a0c-5974-4237-abc7-f790a3eee522",
   "metadata": {},
   "outputs": [],
   "source": []
  }
 ],
 "metadata": {
  "kernelspec": {
   "display_name": "Python 3 (ipykernel)",
   "language": "python",
   "name": "python3"
  },
  "language_info": {
   "codemirror_mode": {
    "name": "ipython",
    "version": 3
   },
   "file_extension": ".py",
   "mimetype": "text/x-python",
   "name": "python",
   "nbconvert_exporter": "python",
   "pygments_lexer": "ipython3",
   "version": "3.12.9"
  }
 },
 "nbformat": 4,
 "nbformat_minor": 5
}
