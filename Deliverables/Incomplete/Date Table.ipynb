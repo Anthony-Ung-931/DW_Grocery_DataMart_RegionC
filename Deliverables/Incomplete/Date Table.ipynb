{
 "cells": [
  {
   "cell_type": "code",
   "execution_count": null,
   "id": "4c2acd0d-295f-4a73-8f35-7e4618288539",
   "metadata": {},
   "outputs": [],
   "source": [
    "Date Dim Table Build Script\n",
    "\n",
    "Create a Jupyter notebook that loops through the dates 2024-01-01 to 2024-12-31 and dump the following information about each day into a CSV:\n",
    "\n",
    "Date Dimension\n",
    "DateKey - Int\n",
    "Date - [Date/Time] Note: SQLite3 has no Date/Time field. Store the string representation of the Date.\n",
    "DayNumberInMonth - int\n",
    "DayNumberInYear - int\n",
    "WeekNumberInYear - int\n",
    "MonthNum - int\n",
    "MonthTxt - ShortText\n",
    "Quarter - int\n",
    "Year - int\n",
    "Fiscal Year - int\n",
    "isHoliday - Boolean (SQLite has no boolean so use the strings 'TRUE'/'FALSE')\n",
    "isWeekend - Boolean (Same note as above\n",
    "Season - ShortText (Store the text representation of the season)\n",
    "\n",
    "\n",
    "Notes from Slide 21 which is in the repo:\n",
    "Someone will have to look up the holidays and fill in the appropriate fields\n",
    "Base seasons on the Solstices and Equinoxes\n",
    "Fiscal Year ends in July so anything before July 31 is 2023 and anything after is 2024"
   ]
  },
  {
   "cell_type": "code",
   "execution_count": 24,
   "id": "6c6ecb02-8a4e-48d5-a520-05b2d09ca47f",
   "metadata": {},
   "outputs": [],
   "source": [
    "import sqlite3 as lite\n",
    "from datetime import datetime, date, timedelta\n",
    "import csv\n",
    "\n",
    "days = int((date(2025,1,1) - date(2024,1,1)).days)\n",
    "\n",
    "with open('dates2024.csv', mode='w', newline='') as file:\n",
    "    writer = csv.writer(file)\n",
    "    writer.writerow([\"DateKey\", \"Date\", \"DayNumberInMonth\", \"DayNumberInYear\", \"WeekNumberInYear\",\"MonthNum\",\"MonthTxt\",\"Quarter\",\"Year\",\"Fiscal Year\", \"isHoliday\",\"isWeekend\",\"Season\"])\n",
    "    \n",
    "    quarterDict = {1: 2, 2: 3, 3: 3, 4: 3, 5: 4, 6: 4, 7: 4, 8: 1, 9: 1, 10: 1, 11: 2, 12: 2}\n",
    "    holidays = [\"2024-01-01\", \"2024-01-15\", \"2024-02-19\",\"2024-03-29\", \"2024-05-27\", \"2024-06-21\", \"2024-07-04\", \"2024-09-02\", \"2024-10-14\", \"2024-11-05\", \"2024-11-11\", \"2024-11-28\", \"2024-12-25\"]\n",
    "\n",
    "    spring = datetime(2024,3,20).date()\n",
    "    summer = datetime(2024,6,21).date()\n",
    "    fall = datetime(2024,9,23).date()\n",
    "    winter = datetime(2024,12,21).date()\n",
    "    \n",
    "    for day in range(days):\n",
    "        dateToEnter = date(2024,1,1) + timedelta(days=day)\n",
    "        quarter = quarterDict[dateToEnter.month]\n",
    "        \n",
    "        weekday = dateToEnter.strftime('%w')\n",
    "        \n",
    "        isWeekend = 'TRUE' if weekday == '6' or weekday == '0' else 'FALSE'\n",
    "        fiscalYear = 2024 if dateToEnter.month < 8 else 2025\n",
    "        isHoliday = 'TRUE' if dateToEnter.strftime('%Y-%m-%d') in holidays else 'FALSE'\n",
    "\n",
    "        if spring <= dateToEnter < summer:\n",
    "            season = \"Spring\"\n",
    "        elif summer <= dateToEnter < fall:\n",
    "            season = \"Summer\"\n",
    "        elif fall <= dateToEnter < winter:\n",
    "            season = \"Fall\"\n",
    "        else:\n",
    "            season = \"Winter\"\n",
    "        \n",
    "        writer.writerow([day, dateToEnter, dateToEnter.strftime('%d'), day, dateToEnter.strftime('%W'), dateToEnter.month, dateToEnter.strftime('%B'), quarter, dateToEnter.year, fiscalYear, isHoliday, isWeekend, season])\n",
    "\n"
   ]
  },
  {
   "cell_type": "code",
   "execution_count": null,
   "id": "cf8c5184-025b-46f8-b5e0-b03839f9abce",
   "metadata": {},
   "outputs": [],
   "source": []
  },
  {
   "cell_type": "code",
   "execution_count": null,
   "id": "a5c2a116-6889-49cd-9216-c5f9cb8bd5c1",
   "metadata": {},
   "outputs": [],
   "source": []
  }
 ],
 "metadata": {
  "kernelspec": {
   "display_name": "Python [conda env:base] *",
   "language": "python",
   "name": "conda-base-py"
  },
  "language_info": {
   "codemirror_mode": {
    "name": "ipython",
    "version": 3
   },
   "file_extension": ".py",
   "mimetype": "text/x-python",
   "name": "python",
   "nbconvert_exporter": "python",
   "pygments_lexer": "ipython3",
   "version": "3.12.7"
  }
 },
 "nbformat": 4,
 "nbformat_minor": 5
}
