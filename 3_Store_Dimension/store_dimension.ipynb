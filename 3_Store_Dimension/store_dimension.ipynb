{
 "cells": [
  {
   "cell_type": "markdown",
   "id": "18ea70a5-ecc6-426f-b978-640d620a8408",
   "metadata": {},
   "source": [
    "#### Create and populate store dimension csv with dummy data"
   ]
  },
  {
   "cell_type": "code",
   "execution_count": 1,
   "id": "c5e17252-ee0a-469e-99b6-d598d1fe38cb",
   "metadata": {},
   "outputs": [
    {
     "name": "stdout",
     "output_type": "stream",
     "text": [
      "Data written to store_dimension.csv\n"
     ]
    }
   ],
   "source": [
    "import csv\n",
    "\n",
    "#dummy data to be replaced with store databases\n",
    "data = [\n",
    "    {\n",
    "        \"StoreKey\": 8,\n",
    "        \"StoreManager\": \"Anthony-Sean-Gideon\",\n",
    "        \"StoreStreetAddr\": \"1180 Seven Seas Dr\",\n",
    "        \"StoreTown\": \"Orlando\",\n",
    "        \"StoreZipCode\": \"32836\",\n",
    "        \"StorePhone#\": \"(407) 824-4500\",\n",
    "        \"StoreState\": \"FL\"\n",
    "    },\n",
    "    {\n",
    "        \"StoreKey\": 9,\n",
    "        \"StoreManager\": \"Rohith-Sneha\",\n",
    "        \"StoreStreetAddr\": \"201 Mullica Hill Road\",\n",
    "        \"StoreTown\": \"Glassboro\",\n",
    "        \"StoreZipCode\": \"08028\",\n",
    "        \"StorePhone#\": \"(856) 424-2222\",\n",
    "        \"StoreState\": \"NJ\"\n",
    "    },\n",
    "    {\n",
    "        \"StoreKey\": 10,\n",
    "        \"StoreManager\": \"Anmol-Nikita-Satya\",\n",
    "        \"StoreStreetAddr\": \"620 Anthony Ung Drive\",\n",
    "        \"StoreTown\": \"Miami\",\n",
    "        \"StoreZipCode\": \"33130\",\n",
    "        \"StorePhone#\": \"(856) 663-8006\",\n",
    "        \"StoreState\": \"FL\"\n",
    "    }\n",
    "]\n",
    "#write the dummy data to csv file\n",
    "output_file = 'store_dimension.csv'\n",
    "with open(output_file, 'w',newline='') as csv_file:\n",
    "    #define the field names(columns headers)\n",
    "    field_names = [\"StoreKey\",\"StoreManager\",\"StoreStreetAddr\",\"StoreTown\",\"StoreZipCode\",\"StorePhone#\",\"StoreState\"]\n",
    "    #create a csv writer with a pipe delimeter\n",
    "    writer = csv.DictWriter(csv_file, fieldnames=field_names, delimiter='|')\n",
    "    #write the header\n",
    "    writer.writeheader()\n",
    "    #write the rows\n",
    "    for row in data:\n",
    "        writer.writerow(row)\n",
    "\n",
    "print(f\"Data written to {output_file}\")\n",
    "\n",
    "    "
   ]
  },
  {
   "cell_type": "code",
   "execution_count": null,
   "id": "fc70681e-1f1e-4a5a-8f27-eedf829bb187",
   "metadata": {},
   "outputs": [],
   "source": []
  }
 ],
 "metadata": {
  "kernelspec": {
   "display_name": "Python 3 (ipykernel)",
   "language": "python",
   "name": "python3"
  },
  "language_info": {
   "codemirror_mode": {
    "name": "ipython",
    "version": 3
   },
   "file_extension": ".py",
   "mimetype": "text/x-python",
   "name": "python",
   "nbconvert_exporter": "python",
   "pygments_lexer": "ipython3",
   "version": "3.12.9"
  }
 },
 "nbformat": 4,
 "nbformat_minor": 5
}
