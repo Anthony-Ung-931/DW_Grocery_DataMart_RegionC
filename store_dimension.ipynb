{
 "cells": [
  {
   "cell_type": "markdown",
   "id": "18ea70a5-ecc6-426f-b978-640d620a8408",
   "metadata": {},
   "source": [
    "#### Create and populate store dimension csv with dummy data"
   ]
  },
  {
   "cell_type": "code",
   "execution_count": 8,
   "id": "c5e17252-ee0a-469e-99b6-d598d1fe38cb",
   "metadata": {},
   "outputs": [
    {
     "name": "stdout",
     "output_type": "stream",
     "text": [
      "Data written to store_dimension.csv\n"
     ]
    }
   ],
   "source": [
    "import csv\n",
    "\n",
    "#dummy data to be replaced with store databases\n",
    "data = [\n",
    "    {\n",
    "        \"StoreKey\": 1,\n",
    "        \"StoreManager\": \"John Doe\",\n",
    "        \"StoreStreetAddr\": \"123 Main St\",\n",
    "        \"StoreTown\": \"Springfield\",\n",
    "        \"StoreZipCode\": \"12345\",\n",
    "        \"StorePhone#\": \"555-1234\",\n",
    "        \"StoreState\": \"CA\"\n",
    "    },\n",
    "    {\n",
    "        \"StoreKey\": 2,\n",
    "        \"StoreManager\": \"Jane Smith\",\n",
    "        \"StoreStreetAddr\": \"456 Elm St\",\n",
    "        \"StoreTown\": \"Shelbyville\",\n",
    "        \"StoreZipCode\": \"67890\",\n",
    "        \"StorePhone#\": \"555-5678\",\n",
    "        \"StoreState\": \"NY\"\n",
    "    },\n",
    "    {\n",
    "        \"StoreKey\": 3,\n",
    "        \"StoreManager\": \"Alice Johnson\",\n",
    "        \"StoreStreetAddr\": \"789 Oak St\",\n",
    "        \"StoreTown\": \"Capital City\",\n",
    "        \"StoreZipCode\": \"10112\",\n",
    "        \"StorePhone#\": \"555-9101\",\n",
    "        \"StoreState\": \"TX\"\n",
    "    }\n",
    "]\n",
    "#write the dummy data to csv file\n",
    "output_file = 'store_dimension.csv'\n",
    "with open(output_file, 'w',newline='') as csv_file:\n",
    "    #define the field names(columns headers)\n",
    "    fieldnames = [\"StoreKey\",\"StoreManager\",\"StoreStreetAddr\",\"StoreTown\",\"StoreZipCode\",\"StorePhone#\",\"StoreState\"]\n",
    "    #create a csv writer with a pipe delimeter\n",
    "    writer = csv.DictWriter(csv_file, fieldnames=fieldnames, delimiter='|')\n",
    "    #write the header\n",
    "    writer.writeheader()\n",
    "    #write the rows\n",
    "    for row in data:\n",
    "        writer.writerow(row)\n",
    "\n",
    "print(f\"Data written to {output_file}\")\n",
    "\n",
    "    "
   ]
  },
  {
   "cell_type": "code",
   "execution_count": null,
   "id": "fc70681e-1f1e-4a5a-8f27-eedf829bb187",
   "metadata": {},
   "outputs": [],
   "source": []
  }
 ],
 "metadata": {
  "kernelspec": {
   "display_name": "Python [conda env:base] *",
   "language": "python",
   "name": "conda-base-py"
  },
  "language_info": {
   "codemirror_mode": {
    "name": "ipython",
    "version": 3
   },
   "file_extension": ".py",
   "mimetype": "text/x-python",
   "name": "python",
   "nbconvert_exporter": "python",
   "pygments_lexer": "ipython3",
   "version": "3.12.2"
  }
 },
 "nbformat": 4,
 "nbformat_minor": 5
}
