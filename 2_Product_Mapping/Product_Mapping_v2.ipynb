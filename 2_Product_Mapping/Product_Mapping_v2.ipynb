{
 "cells": [
  {
   "cell_type": "markdown",
   "id": "cb656834-6707-4386-a030-7b1cc2c8725d",
   "metadata": {},
   "source": [
    "## Product Mapping v2\n",
    "### Anthony Ung"
   ]
  },
  {
   "cell_type": "markdown",
   "id": "f02d9ba7-1a4f-49aa-bb11-00a60b27d8e5",
   "metadata": {},
   "source": [
    "#### Some Jupyter things you need to be aware of ...\n",
    "#### \n",
    "#### As long as you run the cells in the correct order, the mapping of the products table is idempotent.\n",
    "#### If you want to run an individual cell, you need to restart the kernel.\n",
    "#### Go to \"Kernel\" > \"Restart Kernel and Run up to Selected Cell...\""
   ]
  },
  {
   "cell_type": "code",
   "execution_count": 1,
   "id": "7fd84ae2-3f66-48b2-9964-707dbe8371bb",
   "metadata": {},
   "outputs": [],
   "source": [
    "import csv\n",
    "import re"
   ]
  },
  {
   "cell_type": "code",
   "execution_count": 2,
   "id": "82418c59-6701-4576-a7e2-9517f0cc2a24",
   "metadata": {},
   "outputs": [],
   "source": [
    "products_old = []\n",
    "PRODUCTS_MAPPED = []\n",
    "PRODUCT_CLASSES_NEW = []\n",
    "\n",
    "# Read the product and product classes files.\n",
    "with open('Products1.txt', 'r') as csvfile:\n",
    "\n",
    "    csv.register_dialect('piper', delimiter='|', quoting=csv.QUOTE_NONE)\n",
    "    for row in csv.DictReader(csvfile, dialect='piper'):\n",
    "        products_old.append(row)\n",
    "        \n",
    "with open('product_class.txt', 'r') as csvfile:\n",
    "    csv.register_dialect('tab', delimiter='\\t', quoting=csv.QUOTE_NONE)\n",
    "    \n",
    "    for row in csv.DictReader(csvfile, dialect='tab'):\n",
    "        PRODUCT_CLASSES_NEW.append(row)"
   ]
  },
  {
   "cell_type": "code",
   "execution_count": 3,
   "id": "6e7e7299-7af6-453a-8eff-dfc0d261d4bc",
   "metadata": {},
   "outputs": [],
   "source": [
    "class DEBUG:\n",
    "    def print_product_classes():\n",
    "        print(\"product_class_id|product_subcategory|product_category|product_department|product_family\")\n",
    "        for product in PRODUCT_CLASSES_NEW:\n",
    "            print(f'{product['product_class_id']}|{product['product_subcategory']}|{product['product_category']}|{product['product_department']}|{product['product_family']}')\n",
    "\n",
    "    def product_dump(product_arr):\n",
    "        with open('products_to_be_mapped.csv', 'w', newline='') as csvfile:\n",
    "            writer = csv.DictWriter(csvfile, fieldnames=product_arr[0].keys())\n",
    "\n",
    "            writer.writeheader()\n",
    "            for product in product_arr:\n",
    "                writer.writerow(product)\n",
    "    "
   ]
  },
  {
   "cell_type": "markdown",
   "id": "5168d20d-6130-4ec6-ba75-970b2fda040a",
   "metadata": {},
   "source": [
    "### A utility function that invokes some ETL code on our behalf\n",
    "\n",
    "The convention:  \n",
    "- `func` - Contains ETL code to be invoked on our behalf.\n",
    "- `src` - The source array\n",
    "- `dst1` - The destination array for products successfully mapped\n",
    "- `dst2` - The destination array for products not successfully mapped.\n",
    "\n",
    "When creating a definition for `func`, the names `src`, `dst1`, and `dst2` have no meaning to the caller.\n",
    "\n",
    "Each updated product needs to have the following fields:\n",
    "- `product_class_id` - The code of the new product class\n",
    "- `meta_code` - A unique ID.\n",
    "- `meta_mapped_by` - The initials of the person who mapped the product (eg. AU, SJ, GK, AB, NB, etc.)\n",
    "- `meta_reason` - The reason why this product was mapped (e.g. from a character match, from a specific manufacturer, etc.)"
   ]
  },
  {
   "cell_type": "code",
   "execution_count": 4,
   "id": "a7c88ab1-2565-49d3-aa82-4ccee9535cc0",
   "metadata": {},
   "outputs": [],
   "source": [
    "def pipeline(func, src, dst1, dst2):\n",
    "    func(src, dst1, dst2)\n",
    "\n",
    "def update_product(product, product_class_id, code, mapped_by, reason):\n",
    "    product['product_class_id'] = product_class_id\n",
    "    product['meta_code'] = code\n",
    "    product['meta_mapped_by'] = mapped_by\n",
    "    product['meta_reason'] = reason"
   ]
  },
  {
   "cell_type": "markdown",
   "id": "938190ea-6f59-4cf7-828d-3cba9aefc9e2",
   "metadata": {},
   "source": [
    "#### Slide 9 stipulates that every product must have a key that will be mapped to our dimension table."
   ]
  },
  {
   "cell_type": "code",
   "execution_count": 5,
   "id": "5f244bf8-2fe5-4cb1-9aae-997bbd7dd30d",
   "metadata": {},
   "outputs": [],
   "source": [
    "def generate_surrogate_key(src, dst1=None, dst2=None):\n",
    "    product_id = 1\n",
    "\n",
    "    for product in src:\n",
    "        product['product_id'] = product_id\n",
    "        product_id += 1\n",
    "\n",
    "generate_surrogate_key(products_old)\n"
   ]
  },
  {
   "cell_type": "markdown",
   "id": "27d96c56-e0a6-426d-8290-314c772e59bc",
   "metadata": {},
   "source": [
    "### Slide 17 stipulates that we have specific suppliers."
   ]
  },
  {
   "cell_type": "code",
   "execution_count": 6,
   "id": "dec05809-ce76-44e9-89f6-38496cf8e49b",
   "metadata": {},
   "outputs": [],
   "source": [
    "def generate_suppliers(src, dst1=None, dst2=None):\n",
    "    for product in src:\n",
    "        if product['itemType'] == 'Milk':\n",
    "            product['Supplier'] = 'Rowan Dairy'\n",
    "        else:\n",
    "            product['Supplier'] = 'Rowan Warehouse'\n",
    "            \n",
    "generate_suppliers(products_old)\n"
   ]
  },
  {
   "cell_type": "markdown",
   "id": "6e37259a-8c1e-45f8-b730-bc5179cb5d32",
   "metadata": {},
   "source": [
    "### Some useful conventions in this cell:\n",
    "\n",
    "Array names in all caps indicate that either (1) this array shall only be appended to, or (2) this array should not be modified at all.\n",
    "`PRODUCTS_MAPPED` is Type 1. `PRODUCT_CLASSES_NEW` is Type 2."
   ]
  },
  {
   "cell_type": "code",
   "execution_count": 7,
   "id": "58fd856b-4720-4d29-90e9-059683173ba1",
   "metadata": {},
   "outputs": [],
   "source": [
    "def natural_mapping(src, dst1, dst2):\n",
    "    '''\n",
    "        Disallow duplicate product classes\n",
    "        Used the following linux command to identify duplicates\n",
    "            cat product_class.txt | cut -f 2 | sort | uniq -c | sort -r | head\n",
    "    ''';\n",
    "    product_subcategories = {}\n",
    "    for subcategory in PRODUCT_CLASSES_NEW:\n",
    "        if((subcategory['product_subcategory'] != 'Coffee') \\\n",
    "           and (subcategory['product_subcategory'] != 'Cleaners')):\n",
    "\n",
    "            product_subcategories[subcategory['product_subcategory']] = subcategory ['product_class_id']\n",
    "\n",
    "    '''\n",
    "        Resolve a duplicate and verified by hand to use the smaller of the two\n",
    "    '''\n",
    "    product_subcategories['Fresh Vegetables'] = 13\n",
    "\n",
    "    for product in src:\n",
    "        if product['itemType'] in product_subcategories.keys():\n",
    "            update_product( \\\n",
    "                product=product, \\\n",
    "                product_class_id = product_subcategories[product['itemType']], \\\n",
    "                code = 1, \\\n",
    "                mapped_by = 'AU', \\\n",
    "                reason = 'Mapped from old item type into new subcategory')\n",
    "            dst1.append(product)\n",
    "        else:\n",
    "            dst2.append(product)\n",
    "\n",
    "Products_To_Be_Mapped = []\n",
    "natural_mapping(products_old, PRODUCTS_MAPPED, Products_To_Be_Mapped)"
   ]
  },
  {
   "cell_type": "code",
   "execution_count": 8,
   "id": "241cea51-cf89-4f5b-afb6-a7e2e6221761",
   "metadata": {},
   "outputs": [
    {
     "name": "stdout",
     "output_type": "stream",
     "text": [
      "904\n"
     ]
    }
   ],
   "source": [
    "print(len(Products_To_Be_Mapped))\n",
    "\n",
    "DEBUG.product_dump(Products_To_Be_Mapped)"
   ]
  },
  {
   "cell_type": "code",
   "execution_count": null,
   "id": "bddd174f-2970-41ff-b92a-0d29ce948914",
   "metadata": {},
   "outputs": [],
   "source": []
  }
 ],
 "metadata": {
  "kernelspec": {
   "display_name": "Python 3 (ipykernel)",
   "language": "python",
   "name": "python3"
  },
  "language_info": {
   "codemirror_mode": {
    "name": "ipython",
    "version": 3
   },
   "file_extension": ".py",
   "mimetype": "text/x-python",
   "name": "python",
   "nbconvert_exporter": "python",
   "pygments_lexer": "ipython3",
   "version": "3.12.9"
  }
 },
 "nbformat": 4,
 "nbformat_minor": 5
}
